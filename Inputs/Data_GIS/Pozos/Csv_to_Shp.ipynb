{
 "cells": [
  {
   "cell_type": "code",
   "execution_count": 1,
   "metadata": {},
   "outputs": [],
   "source": [
    "import pandas as pd\n",
    "import geopandas as gpd\n",
    "import ogr, osr"
   ]
  },
  {
   "cell_type": "code",
   "execution_count": 2,
   "metadata": {},
   "outputs": [],
   "source": [
    "RU_I_data = pd.read_csv('Coordenadas/RU_IndustrialesXY.csv')"
   ]
  },
  {
   "cell_type": "code",
   "execution_count": 4,
   "metadata": {},
   "outputs": [],
   "source": [
    "RU_U_data = pd.read_csv('Coordenadas/RU_UrbanasXY.csv')\n",
    "RU_A_data = pd.read_csv('Coordenadas/RU_AgricolasXY.csv')\n",
    "CM_I_data = pd.read_csv('Coordenadas/CM_IndustrialesXY.csv')\n",
    "CM_U_data = pd.read_csv('Coordenadas/CM_UrbanasXY.csv')\n",
    "CM_A_data = pd.read_csv('Coordenadas/CM_AgricolasXY.csv')\n",
    "RUCM_Totales_data = pd.read_csv('Coordenadas/RUCM_PozosTotalesXY.csv')"
   ]
  },
  {
   "cell_type": "code",
   "execution_count": 5,
   "metadata": {},
   "outputs": [],
   "source": [
    "# Creating Geopandas GeoDataFrame using the Pandas DataFrame\n",
    "RU_I_gdf = gpd.GeoDataFrame(RU_I_data, geometry=gpd.points_from_xy(RU_I_data['Easting'], RU_I_data ['Northing']))\n",
    "RU_U_gdf = gpd.GeoDataFrame(RU_U_data, geometry=gpd.points_from_xy(RU_U_data['Easting'], RU_U_data ['Northing']))\n",
    "RU_A_gdf = gpd.GeoDataFrame(RU_A_data, geometry=gpd.points_from_xy(RU_A_data['Easting'], RU_A_data ['Northing']))\n",
    "CM_I_gdf = gpd.GeoDataFrame(CM_I_data, geometry=gpd.points_from_xy(CM_I_data['Easting'], CM_I_data ['Northing']))\n",
    "CM_U_gdf = gpd.GeoDataFrame(CM_U_data, geometry=gpd.points_from_xy(CM_U_data['Easting'], CM_U_data ['Northing']))\n",
    "CM_A_gdf = gpd.GeoDataFrame(CM_A_data, geometry=gpd.points_from_xy(CM_A_data['Easting'], CM_A_data ['Northing']))\n",
    "RUCM_Totales_gdf = gpd.GeoDataFrame(RUCM_Totales_data, geometry=gpd.points_from_xy(RUCM_Totales_data['Easting'], RUCM_Totales_data['Northing']))"
   ]
  },
  {
   "cell_type": "code",
   "execution_count": 6,
   "metadata": {},
   "outputs": [],
   "source": [
    "ESRI_WKT = 'PROJCS[\"ETRS_1989_UTM_Zone_30N\",GEOGCS[\"GCS_ETRS_1989\",DATUM[\"D_ETRS_1989\",SPHEROID[\"GRS_1980\",6378137.0,298.257222101]],PRIMEM[\"Greenwich\",0.0],UNIT[\"Degree\",0.0174532925199433]],PROJECTION[\"Transverse_Mercator\"],PARAMETER[\"False_Easting\",500000.0],PARAMETER[\"False_Northing\",0.0],PARAMETER[\"Central_Meridian\",-3.0],PARAMETER[\"Scale_Factor\",0.9996],PARAMETER[\"Latitude_Of_Origin\",0.0],UNIT[\"Meter\",1.0]]'"
   ]
  },
  {
   "cell_type": "code",
   "execution_count": 7,
   "metadata": {},
   "outputs": [],
   "source": [
    "# Save the file as an ESRI Shapefile\n",
    "RU_I_gdf.to_file(filename='RU_Industriales.shp', driver='ESRI Shapefile', crs=ESRI_WKT)\n",
    "RU_U_gdf.to_file(filename='RU_Urbanas.shp', driver='ESRI Shapefile', crs=ESRI_WKT)\n",
    "RU_A_gdf.to_file(filename='RU_Agricolas.shp', driver='ESRI Shapefile', crs=ESRI_WKT)\n",
    "CM_I_gdf.to_file(filename='CM_Industriales.shp', driver='ESRI Shapefile', crs=ESRI_WKT)\n",
    "CM_U_gdf.to_file(filename='CM_Urbanas.shp', driver='ESRI Shapefile', crs=ESRI_WKT)\n",
    "CM_A_gdf.to_file(filename='CM_Agricolas.shp', driver='ESRI Shapefile', crs=ESRI_WKT)\n",
    "RUCM_Totales_gdf.to_file(filename='RUCM_PozosTotales.shp', driver='ESRI Shapefile', crs=ESRI_WKT)"
   ]
  },
  {
   "cell_type": "code",
   "execution_count": null,
   "metadata": {},
   "outputs": [],
   "source": []
  }
 ],
 "metadata": {
  "kernelspec": {
   "display_name": "Python 3",
   "language": "python",
   "name": "python3"
  },
  "language_info": {
   "codemirror_mode": {
    "name": "ipython",
    "version": 3
   },
   "file_extension": ".py",
   "mimetype": "text/x-python",
   "name": "python",
   "nbconvert_exporter": "python",
   "pygments_lexer": "ipython3",
   "version": "3.8.3"
  }
 },
 "nbformat": 4,
 "nbformat_minor": 4
}
