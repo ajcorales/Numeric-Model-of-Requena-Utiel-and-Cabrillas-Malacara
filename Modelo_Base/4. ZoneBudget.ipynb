{
 "cells": [
  {
   "cell_type": "code",
   "execution_count": 1,
   "metadata": {},
   "outputs": [
    {
     "name": "stdout",
     "output_type": "stream",
     "text": [
      "flopy is installed in C:\\Users\\LENOVO\\miniconda3\\lib\\site-packages\\flopy\n"
     ]
    }
   ],
   "source": [
    "import flopy, os\n",
    "import sys\n",
    "import platform\n",
    "import numpy as np\n",
    "import matplotlib as mpl\n",
    "import matplotlib.pyplot as plt\n",
    "import pandas as pd\n",
    "import flopy.utils.binaryfile as bf"
   ]
  },
  {
   "cell_type": "code",
   "execution_count": 2,
   "metadata": {},
   "outputs": [],
   "source": [
    "# Directorio de trabajo:\n",
    "model_ws= \"../../Outputs/Resultados_Base/\"\n",
    "modelname= 'RUCM_Base'\n",
    "exe_name= '../../Solver/mf2005.exe'\n",
    "zb_name = 'ZoneBudget_Base'\n",
    "ml= flopy.modflow.Modflow.load(modelname+'.nam', exe_name=exe_name, \n",
    "                               model_ws=model_ws, check=False)"
   ]
  },
  {
   "cell_type": "code",
   "execution_count": 3,
   "metadata": {},
   "outputs": [],
   "source": [
    "from flopy.utils.zonbud import ZoneBudget, read_zbarray\n",
    "zon = read_zbarray(os.path.join(model_ws + '/' + modelname + '.zon'))\n",
    "zb = ZoneBudget(model_ws + '/' + modelname + '.cbc', zon, kstpkper=None)\n",
    "df = zb.get_dataframes()"
   ]
  },
  {
   "cell_type": "markdown",
   "metadata": {},
   "source": [
    "## *1. ZONEBUDGET TOTAL (m3/d)* "
   ]
  },
  {
   "cell_type": "code",
   "execution_count": 4,
   "metadata": {},
   "outputs": [],
   "source": [
    "# Arreglo del dataframe Zonebudget:\n",
    "time = ml.dis.get_totim()\n",
    "nper = ml.dis.nper\n",
    "entrada = []\n",
    "salida = []\n",
    "balance = []\n",
    "error = []\n",
    "discrep = []\n",
    "for i in time:\n",
    "    entrada.append(df.loc[(i,'TOTAL_IN'), ['ZONE_1','ZONE_2','ZONE_3','ZONE_4',\n",
    "                                           'ZONE_5','ZONE_6']])\n",
    "    salida.append(df.loc[(i,'TOTAL_OUT'), ['ZONE_1','ZONE_2','ZONE_3','ZONE_4',\n",
    "                                           'ZONE_5','ZONE_6']])\n",
    "    error.append(df.loc[(i,'PERCENT_DISCREPANCY'), ['ZONE_1','ZONE_2','ZONE_3','ZONE_4',\n",
    "                                           'ZONE_5','ZONE_6']])\n",
    "for i in range(len(entrada)):\n",
    "    balance.append(entrada[i]-salida[i])\n",
    "    discrep.append((entrada[i]-salida[i])/entrada[i]*100)\n",
    "\n",
    "arrays_inout = [time, np.array(['IN-OUT']*nper)]\n",
    "df1 = pd.DataFrame(balance, index=arrays_inout)\n",
    "\n",
    "arrays_discrep = [time, np.array(['PERCENT_DISCREPANCY']*nper)]\n",
    "df2 = pd.DataFrame(discrep, index=arrays_discrep)\n",
    "\n",
    "# Reemplazando en df:\n",
    "for i in time:\n",
    "    df.loc[(i,'IN-OUT'),'ZONE_1'] = df1.loc[(i,'IN-OUT'),'ZONE_1']\n",
    "    df.loc[(i,'IN-OUT'),'ZONE_2'] = df1.loc[(i,'IN-OUT'),'ZONE_2']\n",
    "    df.loc[(i,'IN-OUT'),'ZONE_3'] = df1.loc[(i,'IN-OUT'),'ZONE_3']\n",
    "    df.loc[(i,'IN-OUT'),'ZONE_4'] = df1.loc[(i,'IN-OUT'),'ZONE_4']\n",
    "    df.loc[(i,'IN-OUT'),'ZONE_5'] = df1.loc[(i,'IN-OUT'),'ZONE_5']\n",
    "    df.loc[(i,'IN-OUT'),'ZONE_6'] = df1.loc[(i,'IN-OUT'),'ZONE_6']\n",
    "\n",
    "for i in time:\n",
    "    df.loc[(i,'PERCENT_DISCREPANCY'),'ZONE_1'] = df2.loc[(i,'PERCENT_DISCREPANCY'),'ZONE_1']\n",
    "    df.loc[(i,'PERCENT_DISCREPANCY'),'ZONE_2'] = df2.loc[(i,'PERCENT_DISCREPANCY'),'ZONE_2']\n",
    "    df.loc[(i,'PERCENT_DISCREPANCY'),'ZONE_3'] = df2.loc[(i,'PERCENT_DISCREPANCY'),'ZONE_3']\n",
    "    df.loc[(i,'PERCENT_DISCREPANCY'),'ZONE_4'] = df2.loc[(i,'PERCENT_DISCREPANCY'),'ZONE_4']\n",
    "    df.loc[(i,'PERCENT_DISCREPANCY'),'ZONE_5'] = df2.loc[(i,'PERCENT_DISCREPANCY'),'ZONE_5']\n",
    "    df.loc[(i,'PERCENT_DISCREPANCY'),'ZONE_6'] = df2.loc[(i,'PERCENT_DISCREPANCY'),'ZONE_6']\n",
    "df.drop(['ZONE_0'], axis = 'columns', inplace=True) # eliminando la columna zona 0"
   ]
  },
  {
   "cell_type": "markdown",
   "metadata": {},
   "source": [
    "## *2. ZONEBUDGET POR ZONAS* "
   ]
  },
  {
   "cell_type": "code",
   "execution_count": 5,
   "metadata": {},
   "outputs": [],
   "source": [
    "perlen = []\n",
    "for i in range(nper):\n",
    "    perlen.append(ml.dis.perlen[i])\n",
    "\n",
    "Years = []\n",
    "anio_hidro1 = 1980\n",
    "anio_hidro2 = 81\n",
    "for i in range(int(len(perlen)/12)):\n",
    "    if anio_hidro1 < 1999:\n",
    "        Years.append(str(anio_hidro1)+'/'+str(anio_hidro2))\n",
    "    else:\n",
    "        if anio_hidro1 < 2009:\n",
    "            Years.append(str(anio_hidro1)+'/'+ str(0)+str(anio_hidro2-100))\n",
    "        else:\n",
    "            Years.append(str(anio_hidro1)+'/'+str(anio_hidro2-100))\n",
    "       \n",
    "    anio_hidro1 = anio_hidro1 +1\n",
    "    anio_hidro2 = anio_hidro2+1"
   ]
  },
  {
   "cell_type": "code",
   "execution_count": 6,
   "metadata": {},
   "outputs": [],
   "source": [
    "# Funcion para obtener los componentes especificos del balance:\n",
    "def f_zone(x,zone):\n",
    "    df_1 = df.loc[(time,[x]), zone]\n",
    "    df_2 = df_1.values.tolist()\n",
    "    df_3 = []\n",
    "    for i in range(len(perlen)):\n",
    "        df_3.append(df_2[i]*perlen[i])\n",
    "    \n",
    "    df_4 = []\n",
    "    v = int(len(perlen)/12) # Cada 12 meses\n",
    "    for i in range(v):\n",
    "        df_4.append(sum(df_3[12*i:12*(i+1)])/1000000)\n",
    "    return df_4"
   ]
  },
  {
   "cell_type": "code",
   "execution_count": 7,
   "metadata": {},
   "outputs": [],
   "source": [
    "# Funcion para calcular el delta del balance:\n",
    "def f_delta(entrada,salida, zone):\n",
    "    z_entrada = f_zone(entrada,zone)\n",
    "    z_salida = f_zone(salida,zone)\n",
    "    z_delta = []\n",
    "    for i in range(int(len(perlen)/12)):\n",
    "        z_delta.append(z_entrada[i]-z_salida[i])\n",
    "    return z_delta"
   ]
  },
  {
   "cell_type": "code",
   "execution_count": 8,
   "metadata": {},
   "outputs": [],
   "source": [
    "# Funcion para conocer la tipologia del rio:\n",
    "def f_tipologia(entrada,salida, zone):\n",
    "    z_entrada = f_zone(entrada,zone)\n",
    "    z_salida = f_zone(salida,zone)\n",
    "    z_delta = []\n",
    "    z_tipologia = []\n",
    "    for i in range(int(len(perlen)/12)):\n",
    "        z_delta.append(z_entrada[i]-z_salida[i])\n",
    "    for i in range(int(len(perlen)/12)):\n",
    "        if z_delta[i]>0:\n",
    "            z_tipologia.append('Perdedor')\n",
    "        else:\n",
    "            z_tipologia.append('Ganador')\n",
    "    return z_tipologia"
   ]
  },
  {
   "cell_type": "markdown",
   "metadata": {},
   "source": [
    "### *2.1. ZONE 01 - Borde Mira (hm3/año)* "
   ]
  },
  {
   "cell_type": "code",
   "execution_count": 9,
   "metadata": {},
   "outputs": [],
   "source": [
    "zone_1 =['Zone 01 - Borde Mira']*int(len(perlen)/12)"
   ]
  },
  {
   "cell_type": "code",
   "execution_count": 10,
   "metadata": {},
   "outputs": [],
   "source": [
    "lista_z1 = list(zip(Years, zone_1, f_zone('FROM_HEAD_DEP_BOUNDS','ZONE_1'),\n",
    "                    f_zone('TO_HEAD_DEP_BOUNDS','ZONE_1'),\n",
    "                    f_delta('FROM_HEAD_DEP_BOUNDS','TO_HEAD_DEP_BOUNDS','ZONE_1')))\n",
    "ship_columns_z1 = ['Year','Zone','Entrada (hm3)','Salida (hm3)','Delta (hm3)']"
   ]
  },
  {
   "cell_type": "code",
   "execution_count": 11,
   "metadata": {},
   "outputs": [],
   "source": [
    "ZB_1 = pd.DataFrame(columns=ship_columns_z1, data=lista_z1)"
   ]
  },
  {
   "cell_type": "markdown",
   "metadata": {},
   "source": [
    "### *2.2. ZONE 02 - Borde Buñol Cheste (hm3/año)* "
   ]
  },
  {
   "cell_type": "code",
   "execution_count": 12,
   "metadata": {},
   "outputs": [],
   "source": [
    "zone_2 =['Zone 02 - Borde Buñol Cheste']*int(len(perlen)/12)"
   ]
  },
  {
   "cell_type": "code",
   "execution_count": 13,
   "metadata": {},
   "outputs": [],
   "source": [
    "lista_z2 = list(zip(Years, zone_2, f_zone('FROM_HEAD_DEP_BOUNDS','ZONE_2'),\n",
    "                    f_zone('TO_HEAD_DEP_BOUNDS','ZONE_2'),\n",
    "                    f_delta('FROM_HEAD_DEP_BOUNDS','TO_HEAD_DEP_BOUNDS','ZONE_2')))\n",
    "ship_columns_z2 = ['Year','Zone','Entrada (hm3)','Salida (hm3)','Delta (hm3)']"
   ]
  },
  {
   "cell_type": "code",
   "execution_count": 14,
   "metadata": {},
   "outputs": [],
   "source": [
    "ZB_2 = pd.DataFrame(columns=ship_columns_z2, data=lista_z2)"
   ]
  },
  {
   "cell_type": "markdown",
   "metadata": {},
   "source": [
    "### *2.3. ZONE 03 - Rambla de la Torre (hm3/año)* "
   ]
  },
  {
   "cell_type": "code",
   "execution_count": 15,
   "metadata": {},
   "outputs": [],
   "source": [
    "zone_3 =['Zone 03 - Rambla de la Torre']*int(len(perlen)/12)"
   ]
  },
  {
   "cell_type": "code",
   "execution_count": 16,
   "metadata": {},
   "outputs": [],
   "source": [
    "lista_z3 = list(zip(Years, zone_3, f_zone('FROM_RIVER_LEAKAGE','ZONE_3'),\n",
    "                    f_zone('TO_RIVER_LEAKAGE','ZONE_3'),\n",
    "                    f_delta('FROM_RIVER_LEAKAGE','TO_RIVER_LEAKAGE','ZONE_3'),\n",
    "                   f_tipologia('FROM_RIVER_LEAKAGE','TO_RIVER_LEAKAGE','ZONE_3')))\n",
    "ship_columns_z3 = ['Year','Zone','Entrada (hm3)','Salida (hm3)',\n",
    "                   'Delta (hm3)', 'Tipología del río']"
   ]
  },
  {
   "cell_type": "code",
   "execution_count": 17,
   "metadata": {},
   "outputs": [],
   "source": [
    "ZB_3 = pd.DataFrame(columns=ship_columns_z3, data=lista_z3)"
   ]
  },
  {
   "cell_type": "markdown",
   "metadata": {},
   "source": [
    "### *2.4. ZONE 04 - Río Madre (hm3/año)* "
   ]
  },
  {
   "cell_type": "code",
   "execution_count": 18,
   "metadata": {},
   "outputs": [],
   "source": [
    "zone_4 =['Zone 04 - Río Madre']*int(len(perlen)/12)"
   ]
  },
  {
   "cell_type": "code",
   "execution_count": 19,
   "metadata": {},
   "outputs": [],
   "source": [
    "lista_z4 = list(zip(Years, zone_4, f_zone('FROM_RIVER_LEAKAGE','ZONE_4'),\n",
    "                    f_zone('TO_RIVER_LEAKAGE','ZONE_4'),\n",
    "                    f_delta('FROM_RIVER_LEAKAGE','TO_RIVER_LEAKAGE','ZONE_4'),\n",
    "                   f_tipologia('FROM_RIVER_LEAKAGE','TO_RIVER_LEAKAGE','ZONE_4')))\n",
    "ship_columns_z4 = ['Year','Zone','Entrada (hm3)','Salida (hm3)',\n",
    "                   'Delta (hm3)', 'Tipología del río']"
   ]
  },
  {
   "cell_type": "code",
   "execution_count": 20,
   "metadata": {},
   "outputs": [],
   "source": [
    "ZB_4 = pd.DataFrame(columns=ship_columns_z4, data=lista_z4)"
   ]
  },
  {
   "cell_type": "markdown",
   "metadata": {},
   "source": [
    "### *2.5. ZONE 05 - Río Magro (hm3/año)* "
   ]
  },
  {
   "cell_type": "code",
   "execution_count": 21,
   "metadata": {},
   "outputs": [],
   "source": [
    "zone_5 =['Zone 05 - Río Magro']*int(len(perlen)/12)"
   ]
  },
  {
   "cell_type": "code",
   "execution_count": 22,
   "metadata": {},
   "outputs": [],
   "source": [
    "lista_z5 = list(zip(Years, zone_5, f_zone('FROM_RIVER_LEAKAGE','ZONE_5'),\n",
    "                    f_zone('TO_RIVER_LEAKAGE','ZONE_5'),\n",
    "                    f_delta('FROM_RIVER_LEAKAGE','TO_RIVER_LEAKAGE','ZONE_5'),\n",
    "                   f_tipologia('FROM_RIVER_LEAKAGE','TO_RIVER_LEAKAGE','ZONE_5')))\n",
    "ship_columns_z5 = ['Year','Zone','Entrada (hm3)','Salida (hm3)',\n",
    "                   'Delta (hm3)','Tipología del río']"
   ]
  },
  {
   "cell_type": "code",
   "execution_count": 23,
   "metadata": {},
   "outputs": [],
   "source": [
    "ZB_5 = pd.DataFrame(columns=ship_columns_z5, data=lista_z5)"
   ]
  },
  {
   "cell_type": "markdown",
   "metadata": {},
   "source": [
    "### *2.6. ZONE 06 - Río Buñol (hm3/año)* "
   ]
  },
  {
   "cell_type": "code",
   "execution_count": 24,
   "metadata": {},
   "outputs": [],
   "source": [
    "zone_6 =['Zone 06 - Río Buñol']*int(len(perlen)/12)"
   ]
  },
  {
   "cell_type": "code",
   "execution_count": 25,
   "metadata": {},
   "outputs": [],
   "source": [
    "lista_z6 = list(zip(Years, zone_6, f_zone('FROM_RIVER_LEAKAGE','ZONE_6'),\n",
    "                    f_zone('TO_RIVER_LEAKAGE','ZONE_6'),\n",
    "                    f_delta('FROM_RIVER_LEAKAGE','TO_RIVER_LEAKAGE','ZONE_6'),\n",
    "                   f_tipologia('FROM_RIVER_LEAKAGE','TO_RIVER_LEAKAGE','ZONE_6')))\n",
    "ship_columns_z6 = ['Year','Zone','Entrada (hm3)','Salida (hm3)',\n",
    "                   'Delta (hm3)','Tipología del río']"
   ]
  },
  {
   "cell_type": "code",
   "execution_count": 26,
   "metadata": {},
   "outputs": [],
   "source": [
    "ZB_6 = pd.DataFrame(columns=ship_columns_z6, data=lista_z6)"
   ]
  },
  {
   "cell_type": "markdown",
   "metadata": {},
   "source": [
    "## *3. RESUMEN* "
   ]
  },
  {
   "cell_type": "code",
   "execution_count": 27,
   "metadata": {},
   "outputs": [],
   "source": [
    "# Funcion para los promedios anuales:\n",
    "def f_prom(entrada,salida, zone):\n",
    "    z_entrada = f_zone(entrada,zone)\n",
    "    z_salida = f_zone(salida,zone)\n",
    "    z_entrada_prom = sum(z_entrada)/len(z_entrada)\n",
    "    z_salida_prom = sum(z_salida)/len(z_salida)\n",
    "    z_delta_prom = z_entrada_prom - z_salida_prom\n",
    "\n",
    "    return [z_entrada_prom, z_salida_prom, z_delta_prom]"
   ]
  },
  {
   "cell_type": "code",
   "execution_count": 28,
   "metadata": {},
   "outputs": [],
   "source": [
    "prom = [f_prom('FROM_HEAD_DEP_BOUNDS','TO_HEAD_DEP_BOUNDS','ZONE_1'),\n",
    "        f_prom('FROM_HEAD_DEP_BOUNDS','TO_HEAD_DEP_BOUNDS','ZONE_2'),\n",
    "       f_prom('FROM_RIVER_LEAKAGE','TO_RIVER_LEAKAGE','ZONE_3'),\n",
    "       f_prom('FROM_RIVER_LEAKAGE','TO_RIVER_LEAKAGE','ZONE_4'),\n",
    "       f_prom('FROM_RIVER_LEAKAGE','TO_RIVER_LEAKAGE','ZONE_5'),\n",
    "       f_prom('FROM_RIVER_LEAKAGE','TO_RIVER_LEAKAGE','ZONE_6')]"
   ]
  },
  {
   "cell_type": "code",
   "execution_count": 29,
   "metadata": {},
   "outputs": [],
   "source": [
    "# Valores redondeados a 02 decimales:\n",
    "entrada_prom = []\n",
    "for i in range(len(prom)):\n",
    "    entrada_prom.append(round((prom[i][0]),2))\n",
    "\n",
    "salida_prom = []\n",
    "for i in range(len(prom)):\n",
    "    salida_prom.append(round((prom[i][1]),2))\n",
    "\n",
    "delta_prom = []\n",
    "for i in range(len(prom)):\n",
    "    delta_prom.append(round((prom[i][2]),2))\n",
    "\n",
    "tipo_prom = []\n",
    "for i in range(len(prom)):\n",
    "    if i<2:\n",
    "        tipo_prom.append('')\n",
    "    else: \n",
    "        if delta_prom[i]>0:\n",
    "            tipo_prom.append('Perdedor')\n",
    "        else:\n",
    "            tipo_prom.append('Ganador')"
   ]
  },
  {
   "cell_type": "code",
   "execution_count": 30,
   "metadata": {},
   "outputs": [],
   "source": [
    "zone_prom = ['1','2','3','4','5','6']\n",
    "descr_prom = ['Borde Mira', 'Borde Buñol Cheste', 'Rambla de la Torre',\n",
    "              'Río Madre', 'Río Magro','Río Buñol']"
   ]
  },
  {
   "cell_type": "code",
   "execution_count": 31,
   "metadata": {},
   "outputs": [],
   "source": [
    "lista_prom = list(zip(zone_prom, descr_prom,entrada_prom, salida_prom, delta_prom, tipo_prom))\n",
    "ship_columns_prom = ['Zona', 'Descripción','Entrada (hm3)','Salida (hm3)','Delta (hm3)', 'Tipología del río']"
   ]
  },
  {
   "cell_type": "code",
   "execution_count": 32,
   "metadata": {},
   "outputs": [],
   "source": [
    "ZB_resumen = pd.DataFrame(columns=ship_columns_prom, data=lista_prom)"
   ]
  },
  {
   "cell_type": "markdown",
   "metadata": {},
   "source": [
    "## ZONEBUDGET - Exportando a Excel"
   ]
  },
  {
   "cell_type": "code",
   "execution_count": 33,
   "metadata": {},
   "outputs": [],
   "source": [
    "writer_ZB = pd.ExcelWriter(model_ws + '/' + zb_name +'_Total.xlsx')\n",
    "ZB_resumen.to_excel(writer_ZB, 'PromedioAnual', index=False)\n",
    "df.to_excel(writer_ZB, 'Total_m3-d', index=True)\n",
    "ZB_1.to_excel(writer_ZB, 'Zone1', index=False)\n",
    "ZB_2.to_excel(writer_ZB, 'Zone2', index=False)\n",
    "ZB_3.to_excel(writer_ZB, 'Zone3', index=False)\n",
    "ZB_4.to_excel(writer_ZB, 'Zone4', index=False)\n",
    "ZB_5.to_excel(writer_ZB, 'Zone5', index=False)\n",
    "ZB_6.to_excel(writer_ZB, 'Zone6', index=False)\n",
    "writer_ZB.save()"
   ]
  }
 ],
 "metadata": {
  "kernelspec": {
   "display_name": "Python 3",
   "language": "python",
   "name": "python3"
  },
  "language_info": {
   "codemirror_mode": {
    "name": "ipython",
    "version": 3
   },
   "file_extension": ".py",
   "mimetype": "text/x-python",
   "name": "python",
   "nbconvert_exporter": "python",
   "pygments_lexer": "ipython3",
   "version": "3.8.3"
  }
 },
 "nbformat": 4,
 "nbformat_minor": 4
}
