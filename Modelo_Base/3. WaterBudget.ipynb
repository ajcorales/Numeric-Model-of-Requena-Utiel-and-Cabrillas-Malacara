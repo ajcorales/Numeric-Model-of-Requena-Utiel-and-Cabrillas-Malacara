{
 "cells": [
  {
   "cell_type": "code",
   "execution_count": 1,
   "metadata": {},
   "outputs": [
    {
     "name": "stdout",
     "output_type": "stream",
     "text": [
      "flopy is installed in C:\\Users\\LENOVO\\miniconda3\\lib\\site-packages\\flopy\n"
     ]
    }
   ],
   "source": [
    "import flopy, os\n",
    "import sys\n",
    "import platform\n",
    "import numpy as np\n",
    "import matplotlib as mpl\n",
    "import matplotlib.pyplot as plt\n",
    "import pandas as pd\n",
    "from seaborn import load_dataset\n",
    "from pandas import ExcelWriter\n",
    "from pandas import ExcelFile\n",
    "from openpyxl import Workbook\n",
    "import flopy.utils.binaryfile as bf"
   ]
  },
  {
   "cell_type": "code",
   "execution_count": 2,
   "metadata": {},
   "outputs": [],
   "source": [
    "# Directorio de trabajo:\n",
    "model_ws= \"../../Outputs/Resultados_Base/\"\n",
    "modelname= 'RUCM_Base'\n",
    "exe_name= '../../Solver/mf2005.exe'\n",
    "wb_name = 'WaterBudget_Base'\n",
    "ml= flopy.modflow.Modflow.load(modelname+'.nam', exe_name=exe_name, \n",
    "                               model_ws=model_ws, check=False)"
   ]
  },
  {
   "cell_type": "code",
   "execution_count": 3,
   "metadata": {},
   "outputs": [],
   "source": [
    "from flopy.utils.zonbud import ZoneBudget, read_zbarray\n",
    "zona_total = read_zbarray(os.path.join(model_ws + '/' + modelname + '.zontotal'))\n",
    "balance_total = ZoneBudget(model_ws + '/' + modelname + '.cbc', zona_total, kstpkper=None)\n",
    "df_total = balance_total.get_dataframes()"
   ]
  },
  {
   "cell_type": "markdown",
   "metadata": {},
   "source": [
    "# *1. BALANCE TOTAL* "
   ]
  },
  {
   "cell_type": "code",
   "execution_count": 4,
   "metadata": {},
   "outputs": [],
   "source": [
    "# Arreglo del dataframe Zonebudget:\n",
    "time = ml.dis.get_totim()\n",
    "nper = ml.dis.nper\n",
    "entrada_t = []\n",
    "salida_t = []\n",
    "balance_t = []\n",
    "error_t = []\n",
    "discrep_t = []\n",
    "for i in time:\n",
    "    entrada_t.append(df_total.loc[(i,'TOTAL_IN'), ['ZONE_1']])\n",
    "    salida_t.append(df_total.loc[(i,'TOTAL_OUT'), ['ZONE_1']])\n",
    "    error_t.append(df_total.loc[(i,'PERCENT_DISCREPANCY'), ['ZONE_1']])\n",
    "    \n",
    "for i in range(len(entrada_t)):\n",
    "    balance_t.append(entrada_t[i]-salida_t[i])\n",
    "    discrep_t.append((entrada_t[i]-salida_t[i])/entrada_t[i]*100)\n",
    "\n",
    "arrays_inout_t = [time, np.array(['IN-OUT']*nper)]\n",
    "df1_t = pd.DataFrame(balance_t, index=arrays_inout_t)\n",
    "\n",
    "arrays_discrep_t = [time, np.array(['PERCENT_DISCREPANCY']*nper)]\n",
    "df2_t = pd.DataFrame(discrep_t, index=arrays_discrep_t)\n",
    "\n",
    "# Reemplazando en df:\n",
    "for i in time:\n",
    "    df_total.loc[(i,'IN-OUT'),'ZONE_1'] = df1_t.loc[(i,'IN-OUT'),'ZONE_1']\n",
    "\n",
    "for i in time:\n",
    "    df_total.loc[(i,'PERCENT_DISCREPANCY'),'ZONE_1'] = df2_t.loc[(i,'PERCENT_DISCREPANCY'),'ZONE_1']\n",
    "\n",
    "df_total = df_total.loc[(time,['FROM_STORAGE', 'FROM_CONSTANT_HEAD', 'FROM_WELLS', 'FROM_RIVER_LEAKAGE',\n",
    "                                  'FROM_HEAD_DEP_BOUNDS', 'FROM_RECHARGE', 'TOTAL_IN', 'TO_STORAGE', 'TO_CONSTANT_HEAD',\n",
    "                                  'TO_WELLS', 'TO_RIVER_LEAKAGE', 'TO_HEAD_DEP_BOUNDS', 'TO_RECHARGE', 'TOTAL_OUT', \n",
    "                                  'IN-OUT', 'PERCENT_DISCREPANCY']), ['ZONE_1']]"
   ]
  },
  {
   "cell_type": "code",
   "execution_count": 5,
   "metadata": {},
   "outputs": [],
   "source": [
    "#df_total.to_csv(model_ws + '/' + wb_name +'.csv')"
   ]
  },
  {
   "cell_type": "markdown",
   "metadata": {},
   "source": [
    "### *1.1. BALANCE TOTAL (m3/d)* "
   ]
  },
  {
   "cell_type": "code",
   "execution_count": 6,
   "metadata": {},
   "outputs": [],
   "source": [
    "def f(x):\n",
    "    df_1 = df_total.loc[(time,[x]), :]\n",
    "    df_2 = df_1.values.tolist()\n",
    "    df_3 = [y for x in df_2 for y in x]\n",
    "    return df_3\n",
    "\n",
    "perlen = []\n",
    "for i in range(nper):\n",
    "    perlen.append(ml.dis.perlen[i])\n",
    "Periodo = [i+1 for i in range(nper)]"
   ]
  },
  {
   "cell_type": "code",
   "execution_count": 7,
   "metadata": {},
   "outputs": [],
   "source": [
    "lista = list(zip(Periodo, perlen, time, f('FROM_STORAGE'), f('FROM_CONSTANT_HEAD'),f('FROM_WELLS'),\n",
    "                 f('FROM_RIVER_LEAKAGE'),f('FROM_HEAD_DEP_BOUNDS'), f('FROM_RECHARGE'), \n",
    "                 f('TOTAL_IN'), f('TO_STORAGE'), f('TO_CONSTANT_HEAD'), f('TO_WELLS'), \n",
    "                 f('TO_RIVER_LEAKAGE'), f('TO_HEAD_DEP_BOUNDS'), f('TO_RECHARGE'),\n",
    "                 f('TOTAL_OUT'), f('IN-OUT'), f('PERCENT_DISCREPANCY')))\n",
    "ship_columns = ['Stress Period', 'Time','Total Time','FROM STORAGE', 'FROM CONSTANT HEAD', 'FROM WELLS',\n",
    "                'FROM RIVER LEAKAGE', 'FROM HEAD DEP BOUNDS', 'FROM RECHARGE', \n",
    "                'TOTAL IN (m3/day)', 'TO STORAGE', 'TO CONSTANT HEAD', 'TO WELLS', \n",
    "                'TO RIVER LEAKAGE', 'TO HEAD DEP BOUNDS', 'TO RECHARGE',\n",
    "                'TOTAL OUT (m3/day)', 'IN-OUT (m3/day)', 'PERCENT DISCREPANCY']"
   ]
  },
  {
   "cell_type": "code",
   "execution_count": 8,
   "metadata": {},
   "outputs": [],
   "source": [
    "Balance = pd.DataFrame(columns=ship_columns, data=lista)"
   ]
  },
  {
   "cell_type": "markdown",
   "metadata": {},
   "source": [
    "### *1.2. BALANCE TOTAL (m3/mes)* "
   ]
  },
  {
   "cell_type": "code",
   "execution_count": 9,
   "metadata": {},
   "outputs": [],
   "source": [
    "def f2(x):\n",
    "    df_1 = df_total.loc[(time,[x]), :]\n",
    "    df_2 = df_1.values.tolist()\n",
    "    df_3 = [y for x in df_2 for y in x]\n",
    "    df_4 = []\n",
    "    for i in range(len(perlen)):\n",
    "                   df_4.append(df_3[i]*perlen[i])       \n",
    "    return df_4"
   ]
  },
  {
   "cell_type": "code",
   "execution_count": 10,
   "metadata": {},
   "outputs": [],
   "source": [
    "lista_2 = list(zip(Periodo, perlen, time, f2('FROM_STORAGE'), f2('FROM_CONSTANT_HEAD'),f2('FROM_WELLS'),\n",
    "                 f2('FROM_RIVER_LEAKAGE'),f2('FROM_HEAD_DEP_BOUNDS'), f2('FROM_RECHARGE'), \n",
    "                 f2('TOTAL_IN'), f2('TO_STORAGE'), f2('TO_CONSTANT_HEAD'), f2('TO_WELLS'), \n",
    "                 f2('TO_RIVER_LEAKAGE'), f2('TO_HEAD_DEP_BOUNDS'), f2('TO_RECHARGE'),\n",
    "                 f2('TOTAL_OUT'), f2('IN-OUT'), f('PERCENT_DISCREPANCY')))\n",
    "ship_columns_2 = ['Stress Period', 'Time','Total Time','FROM STORAGE', 'FROM CONSTANT HEAD', 'FROM WELLS',\n",
    "                'FROM RIVER LEAKAGE', 'FROM HEAD DEP BOUNDS', 'FROM RECHARGE', \n",
    "                'TOTAL IN (m3/mes)', 'TO STORAGE', 'TO CONSTANT HEAD', 'TO WELLS', \n",
    "                'TO RIVER LEAKAGE', 'TO HEAD DEP BOUNDS', 'TO RECHARGE',\n",
    "                'TOTAL OUT (m3/mes)', 'IN-OUT (m3/mes)', 'PERCENT DISCREPANCY']"
   ]
  },
  {
   "cell_type": "code",
   "execution_count": 11,
   "metadata": {},
   "outputs": [],
   "source": [
    "Balance_2 = pd.DataFrame(columns=ship_columns_2, data=lista_2)"
   ]
  },
  {
   "cell_type": "markdown",
   "metadata": {},
   "source": [
    "### *1.3. BALANCE ACUMULADO (m3)* "
   ]
  },
  {
   "cell_type": "code",
   "execution_count": 12,
   "metadata": {},
   "outputs": [],
   "source": [
    "def f3(x):\n",
    "    df_1 = df_total.loc[(time,[x]), :]\n",
    "    df_2 = df_1.values.tolist()\n",
    "    df_3 = [y for x in df_2 for y in x]\n",
    "    df_4 = []\n",
    "    for i in range(len(perlen)):\n",
    "        df_4.append(df_3[i]*perlen[i])\n",
    "    df_5 = []\n",
    "    for i in range(len(perlen)):\n",
    "        if i==0:\n",
    "            df_5.append(df_4[i])\n",
    "        else:\n",
    "            df_5.append(df_4[i]+df_5[i-1])  \n",
    "    return df_5"
   ]
  },
  {
   "cell_type": "code",
   "execution_count": 13,
   "metadata": {},
   "outputs": [],
   "source": [
    "lista_3 = list(zip(Periodo, perlen, time, f3('FROM_STORAGE'), f3('FROM_CONSTANT_HEAD'),f3('FROM_WELLS'),\n",
    "                 f3('FROM_RIVER_LEAKAGE'),f3('FROM_HEAD_DEP_BOUNDS'), f3('FROM_RECHARGE'), \n",
    "                 f3('TOTAL_IN'), f3('TO_STORAGE'), f3('TO_CONSTANT_HEAD'), f3('TO_WELLS'), \n",
    "                 f3('TO_RIVER_LEAKAGE'), f3('TO_HEAD_DEP_BOUNDS'), f3('TO_RECHARGE'),\n",
    "                 f3('TOTAL_OUT'), f3('IN-OUT'), f('PERCENT_DISCREPANCY')))\n",
    "ship_columns_3 = ['Stress Period', 'Time','Total Time','FROM STORAGE', 'FROM CONSTANT HEAD', 'FROM WELLS',\n",
    "                'FROM RIVER LEAKAGE', 'FROM HEAD DEP BOUNDS', 'FROM RECHARGE', \n",
    "                'TOTAL IN (m3)', 'TO STORAGE', 'TO CONSTANT HEAD', 'TO WELLS', \n",
    "                'TO RIVER LEAKAGE', 'TO HEAD DEP BOUNDS', 'TO RECHARGE',\n",
    "                'TOTAL OUT (m3)', 'IN-OUT (m3)', 'PERCENT DISCREPANCY']"
   ]
  },
  {
   "cell_type": "code",
   "execution_count": 14,
   "metadata": {},
   "outputs": [],
   "source": [
    "Balance_3 = pd.DataFrame(columns=ship_columns_3, data=lista_3)"
   ]
  },
  {
   "cell_type": "markdown",
   "metadata": {},
   "source": [
    "### *1.4. BALANCE ACUMULADO (hm3)* "
   ]
  },
  {
   "cell_type": "code",
   "execution_count": 15,
   "metadata": {},
   "outputs": [],
   "source": [
    "def f4(x):\n",
    "    df_1 = df_total.loc[(time,[x]), :]\n",
    "    df_2 = df_1.values.tolist()\n",
    "    df_3 = [y for x in df_2 for y in x]\n",
    "    df_4 = []\n",
    "    for i in range(len(perlen)):\n",
    "        df_4.append(df_3[i]*perlen[i])\n",
    "    df_5 = []\n",
    "    for i in range(len(perlen)):\n",
    "        if i==0:\n",
    "            df_5.append(df_4[i]/1000000)\n",
    "        else:\n",
    "            df_5.append((df_4[i]/1000000+df_5[i-1]))\n",
    "    df_5 = df_5\n",
    "    return df_5"
   ]
  },
  {
   "cell_type": "code",
   "execution_count": 16,
   "metadata": {},
   "outputs": [],
   "source": [
    "lista_4 = list(zip(Periodo, perlen, time, f4('FROM_STORAGE'), f4('FROM_CONSTANT_HEAD'),f4('FROM_WELLS'),\n",
    "                 f4('FROM_RIVER_LEAKAGE'),f4('FROM_HEAD_DEP_BOUNDS'), f4('FROM_RECHARGE'), \n",
    "                 f4('TOTAL_IN'), f4('TO_STORAGE'), f4('TO_CONSTANT_HEAD'), f4('TO_WELLS'), \n",
    "                 f4('TO_RIVER_LEAKAGE'), f4('TO_HEAD_DEP_BOUNDS'), f4('TO_RECHARGE'),\n",
    "                 f4('TOTAL_OUT'), f4('IN-OUT'), f('PERCENT_DISCREPANCY')))\n",
    "ship_columns_4 = ['Stress Period', 'Time','Total Time','FROM STORAGE', 'FROM CONSTANT HEAD', 'FROM WELLS',\n",
    "                'FROM RIVER LEAKAGE', 'FROM HEAD DEP BOUNDS', 'FROM RECHARGE', \n",
    "                'TOTAL IN (hm3)', 'TO STORAGE', 'TO CONSTANT HEAD', 'TO WELLS', \n",
    "                'TO RIVER LEAKAGE', 'TO HEAD DEP BOUNDS', 'TO RECHARGE',\n",
    "                'TOTAL OUT (hm3)', 'IN-OUT (hm3)', 'PERCENT DISCREPANCY']"
   ]
  },
  {
   "cell_type": "code",
   "execution_count": 17,
   "metadata": {},
   "outputs": [],
   "source": [
    "Balance_4 = pd.DataFrame(columns=ship_columns_4, data=lista_4)\n",
    "#Balance_4.to_csv(model_ws + '/' + wb_name +'_acum_hm3.csv')"
   ]
  },
  {
   "cell_type": "markdown",
   "metadata": {},
   "source": [
    "### *1.5. BALANCE ANUAL (hm3)* "
   ]
  },
  {
   "cell_type": "code",
   "execution_count": 18,
   "metadata": {},
   "outputs": [],
   "source": [
    "def f5(x):\n",
    "    df_1 = df_total.loc[(time,[x]), :]\n",
    "    df_2 = df_1.values.tolist()\n",
    "    df_3 = [y for x in df_2 for y in x]\n",
    "    df_4 = []\n",
    "    for i in range(len(perlen)):\n",
    "        df_4.append(df_3[i]*perlen[i])\n",
    "    \n",
    "    df_5 = []\n",
    "    v = int(len(perlen)/12) # Cada 12 meses\n",
    "    for i in range(v):\n",
    "        df_5.append(sum(df_4[12*i:12*(i+1)])/1000000)\n",
    "    return df_5\n",
    "\n",
    "Years = []\n",
    "anio_hidro1 = 1980\n",
    "anio_hidro2 = 81\n",
    "for i in range(int(len(perlen)/12)):\n",
    "    if anio_hidro1 < 1999:\n",
    "        Years.append(str(anio_hidro1)+'/'+str(anio_hidro2))\n",
    "    else:\n",
    "        if anio_hidro1 < 2009:\n",
    "            Years.append(str(anio_hidro1)+'/'+ str(0)+str(anio_hidro2-100))\n",
    "        else:\n",
    "            Years.append(str(anio_hidro1)+'/'+str(anio_hidro2-100))\n",
    "       \n",
    "    anio_hidro1 = anio_hidro1+1\n",
    "    anio_hidro2 = anio_hidro2+1\n",
    "    "
   ]
  },
  {
   "cell_type": "code",
   "execution_count": 19,
   "metadata": {},
   "outputs": [],
   "source": [
    "lista_5 = list(zip(Years, f5('FROM_STORAGE'), f5('FROM_CONSTANT_HEAD'),f5('FROM_WELLS'),\n",
    "                 f5('FROM_RIVER_LEAKAGE'),f5('FROM_HEAD_DEP_BOUNDS'), f5('FROM_RECHARGE'), \n",
    "                 f5('TOTAL_IN'), f5('TO_STORAGE'), f5('TO_CONSTANT_HEAD'), f5('TO_WELLS'), \n",
    "                 f5('TO_RIVER_LEAKAGE'), f5('TO_HEAD_DEP_BOUNDS'), f5('TO_RECHARGE'),\n",
    "                 f5('TOTAL_OUT'), f5('IN-OUT'), f5('PERCENT_DISCREPANCY')))\n",
    "ship_columns_5 = ['Year','FROM STORAGE', 'FROM CONSTANT HEAD', 'FROM WELLS',\n",
    "                'FROM RIVER LEAKAGE', 'FROM HEAD DEP BOUNDS', 'FROM RECHARGE', \n",
    "                'TOTAL IN (hm3/year)', 'TO STORAGE', 'TO CONSTANT HEAD', 'TO WELLS', \n",
    "                'TO RIVER LEAKAGE', 'TO HEAD DEP BOUNDS', 'TO RECHARGE',\n",
    "                'TOTAL OUT (hm3/year)', 'IN-OUT (hm3/year)', 'PERCENT DISCREPANCY']"
   ]
  },
  {
   "cell_type": "code",
   "execution_count": 20,
   "metadata": {},
   "outputs": [],
   "source": [
    "Balance_5 = pd.DataFrame(columns=ship_columns_5, data=lista_5)"
   ]
  },
  {
   "cell_type": "markdown",
   "metadata": {},
   "source": [
    "### *1.6. BALANCE PROMEDIO ANUAL (hm3)* "
   ]
  },
  {
   "cell_type": "code",
   "execution_count": 21,
   "metadata": {},
   "outputs": [],
   "source": [
    "# Funcion para los promedios anuales:\n",
    "def f_wb_prom(entrada,salida):\n",
    "    wb_entrada = f5(entrada)\n",
    "    wb_salida = f5(salida)\n",
    "    wb_entrada_prom = sum(wb_entrada)/len(wb_entrada)\n",
    "    wb_salida_prom = sum(wb_salida)/len(wb_salida)\n",
    "    wb_delta_prom = wb_entrada_prom - wb_salida_prom\n",
    "\n",
    "    return [wb_entrada_prom, wb_salida_prom, wb_delta_prom]"
   ]
  },
  {
   "cell_type": "code",
   "execution_count": 22,
   "metadata": {},
   "outputs": [],
   "source": [
    "wb_prom = [f_wb_prom('FROM_RECHARGE','TO_RECHARGE'), f_wb_prom('FROM_HEAD_DEP_BOUNDS','TO_HEAD_DEP_BOUNDS'),\n",
    "           f_wb_prom('FROM_RIVER_LEAKAGE','TO_RIVER_LEAKAGE'), f_wb_prom('FROM_WELLS','TO_WELLS')]"
   ]
  },
  {
   "cell_type": "code",
   "execution_count": 23,
   "metadata": {},
   "outputs": [],
   "source": [
    "entrada_prom = []\n",
    "for i in range(len(wb_prom)):\n",
    "    entrada_prom.append(round((wb_prom[i][0]),2))\n",
    "entrada_prom.append(sum(entrada_prom))\n",
    "\n",
    "salida_prom = []\n",
    "for i in range(len(wb_prom)):\n",
    "    salida_prom.append(round((wb_prom[i][1]),2))\n",
    "salida_prom.append(sum(salida_prom))\n",
    "\n",
    "delta_prom = []\n",
    "for i in range(len(wb_prom)):\n",
    "    delta_prom.append(round((wb_prom[i][2]),2))\n",
    "delta_prom.append(sum(delta_prom))"
   ]
  },
  {
   "cell_type": "code",
   "execution_count": 24,
   "metadata": {},
   "outputs": [],
   "source": [
    "descr_prom = ['Recarga', 'Otras Masas', 'Río - Acuífero', \n",
    "             'Bombeo', 'TOTAL']\n",
    "lista_prom = list(zip(descr_prom,entrada_prom, salida_prom, delta_prom))\n",
    "ship_columns_prom = ['Descripción','Entrada (hm3)','Salida (hm3)','Delta (hm3)']"
   ]
  },
  {
   "cell_type": "code",
   "execution_count": 25,
   "metadata": {},
   "outputs": [
    {
     "data": {
      "text/html": [
       "<div>\n",
       "<style scoped>\n",
       "    .dataframe tbody tr th:only-of-type {\n",
       "        vertical-align: middle;\n",
       "    }\n",
       "\n",
       "    .dataframe tbody tr th {\n",
       "        vertical-align: top;\n",
       "    }\n",
       "\n",
       "    .dataframe thead th {\n",
       "        text-align: right;\n",
       "    }\n",
       "</style>\n",
       "<table border=\"1\" class=\"dataframe\">\n",
       "  <thead>\n",
       "    <tr style=\"text-align: right;\">\n",
       "      <th></th>\n",
       "      <th>Descripción</th>\n",
       "      <th>Entrada (hm3)</th>\n",
       "      <th>Salida (hm3)</th>\n",
       "      <th>Delta (hm3)</th>\n",
       "    </tr>\n",
       "  </thead>\n",
       "  <tbody>\n",
       "    <tr>\n",
       "      <th>0</th>\n",
       "      <td>Recarga</td>\n",
       "      <td>53.92</td>\n",
       "      <td>0.00</td>\n",
       "      <td>53.92</td>\n",
       "    </tr>\n",
       "    <tr>\n",
       "      <th>1</th>\n",
       "      <td>Otras Masas</td>\n",
       "      <td>15.62</td>\n",
       "      <td>43.04</td>\n",
       "      <td>-27.42</td>\n",
       "    </tr>\n",
       "    <tr>\n",
       "      <th>2</th>\n",
       "      <td>Río - Acuífero</td>\n",
       "      <td>1.87</td>\n",
       "      <td>11.16</td>\n",
       "      <td>-9.28</td>\n",
       "    </tr>\n",
       "    <tr>\n",
       "      <th>3</th>\n",
       "      <td>Bombeo</td>\n",
       "      <td>0.00</td>\n",
       "      <td>9.52</td>\n",
       "      <td>-9.52</td>\n",
       "    </tr>\n",
       "    <tr>\n",
       "      <th>4</th>\n",
       "      <td>TOTAL</td>\n",
       "      <td>71.41</td>\n",
       "      <td>63.72</td>\n",
       "      <td>7.70</td>\n",
       "    </tr>\n",
       "  </tbody>\n",
       "</table>\n",
       "</div>"
      ],
      "text/plain": [
       "      Descripción  Entrada (hm3)  Salida (hm3)  Delta (hm3)\n",
       "0         Recarga          53.92          0.00        53.92\n",
       "1     Otras Masas          15.62         43.04       -27.42\n",
       "2  Río - Acuífero           1.87         11.16        -9.28\n",
       "3          Bombeo           0.00          9.52        -9.52\n",
       "4           TOTAL          71.41         63.72         7.70"
      ]
     },
     "execution_count": 25,
     "metadata": {},
     "output_type": "execute_result"
    }
   ],
   "source": [
    "WB_resumen = pd.DataFrame(columns=ship_columns_prom, data=lista_prom)\n",
    "#WB_resumen.to_csv(model_ws + '/' + wb_name +'_PromedioAnual.csv')\n",
    "WB_resumen"
   ]
  },
  {
   "cell_type": "markdown",
   "metadata": {},
   "source": [
    "# *2. BALANCE POR MASAS SUBTERRANEAS (hm3)* "
   ]
  },
  {
   "cell_type": "code",
   "execution_count": 26,
   "metadata": {},
   "outputs": [],
   "source": [
    "zona_masas = read_zbarray(os.path.join(model_ws + '/' + modelname + '.zon_masas'))\n",
    "balance_masas = ZoneBudget(model_ws + '/' + modelname + '.cbc', zona_masas, kstpkper=None)\n",
    "df_masas = balance_masas.get_dataframes()"
   ]
  },
  {
   "cell_type": "markdown",
   "metadata": {},
   "source": [
    "### *2.1. BALANCE DE MASAS TOTAL (m3/d)* "
   ]
  },
  {
   "cell_type": "code",
   "execution_count": 27,
   "metadata": {},
   "outputs": [],
   "source": [
    "# Arreglo del dataframe Zonebudget:\n",
    "entrada_m = []\n",
    "salida_m = []\n",
    "balance_m = []\n",
    "error_m = []\n",
    "discrep_m = []\n",
    "for i in time:\n",
    "    entrada_m.append(df_masas.loc[(i,'TOTAL_IN'), ['ZONE_1', 'ZONE_2']])\n",
    "    salida_m.append(df_masas.loc[(i,'TOTAL_OUT'), ['ZONE_1', 'ZONE_2']])\n",
    "    error_m.append(df_masas.loc[(i,'PERCENT_DISCREPANCY'), ['ZONE_1', 'ZONE_2']])\n",
    "    \n",
    "for i in range(len(entrada_m)):\n",
    "    balance_m.append(entrada_m[i]-salida_m[i])\n",
    "    discrep_m.append((entrada_m[i]-salida_m[i])/entrada_m[i]*100)\n",
    "    \n",
    "arrays_inout_m = [time, np.array(['IN-OUT']*nper)]\n",
    "df1_m = pd.DataFrame(balance_m, index=arrays_inout_m)\n",
    "\n",
    "arrays_discrep_m = [time, np.array(['PERCENT_DISCREPANCY']*nper)]\n",
    "df2_m = pd.DataFrame(discrep_m, index=arrays_discrep_m)\n",
    "\n",
    "# Reemplazando en df:\n",
    "for i in time:\n",
    "    df_masas.loc[(i,'IN-OUT'),['ZONE_1','ZONE_2']] = df1_m.loc[(i,'IN-OUT'),['ZONE_1','ZONE_2']]\n",
    "    \n",
    "for i in time:\n",
    "    df_masas.loc[(i,'PERCENT_DISCREPANCY'),['ZONE_1','ZONE_2']] = df2_m.loc[(i,'PERCENT_DISCREPANCY'),['ZONE_1','ZONE_2']]\n",
    "    \n",
    "df_masas = df_masas.loc[(time,['FROM_STORAGE', 'FROM_CONSTANT_HEAD', 'FROM_WELLS','FROM_RIVER_LEAKAGE',\n",
    "                                'FROM_HEAD_DEP_BOUNDS', 'FROM_RECHARGE','FROM_ZONE_1',\n",
    "                                'FROM_ZONE_2', 'TOTAL_IN', 'TO_STORAGE', 'TO_CONSTANT_HEAD', 'TO_WELLS',\n",
    "                                'TO_RIVER_LEAKAGE', 'TO_HEAD_DEP_BOUNDS', 'TO_RECHARGE',\n",
    "                                'TO_ZONE_1', 'TO_ZONE_2', 'TOTAL_OUT', 'IN-OUT',\n",
    "                                'PERCENT_DISCREPANCY']), ['ZONE_1','ZONE_2']]"
   ]
  },
  {
   "cell_type": "code",
   "execution_count": 28,
   "metadata": {},
   "outputs": [],
   "source": [
    "def fm(x):\n",
    "    df_1 = df_masas.loc[(time,[x]), :]\n",
    "    df_2 = df_1.values.tolist()\n",
    "    df_3 = [y for x in df_2 for y in x]\n",
    "    return df_3"
   ]
  },
  {
   "cell_type": "code",
   "execution_count": 29,
   "metadata": {},
   "outputs": [],
   "source": [
    "perlen_m = []\n",
    "for i in range(nper):\n",
    "    perlen_m.append(ml.dis.perlen[i])\n",
    "    perlen_m.append(ml.dis.perlen[i])\n",
    "    \n",
    "Periodo_m = []\n",
    "for i in range(nper):\n",
    "    Periodo_m.append(i+1)\n",
    "    Periodo_m.append(i+1)\n",
    "\n",
    "time_m = []\n",
    "for i in range(nper):\n",
    "    time_m.append(time[i])\n",
    "    time_m.append(time[i])\n",
    "\n",
    "list_zone = []\n",
    "for i in range(nper):\n",
    "    list_zone.append('ZONE 1')\n",
    "    list_zone.append('ZONE 2')"
   ]
  },
  {
   "cell_type": "code",
   "execution_count": 30,
   "metadata": {},
   "outputs": [],
   "source": [
    "lista_m1 = list(zip(Periodo_m, perlen_m, time_m, list_zone, fm('FROM_STORAGE'), fm('FROM_CONSTANT_HEAD'),\n",
    "                    fm('FROM_WELLS'), fm('FROM_RIVER_LEAKAGE'),fm('FROM_HEAD_DEP_BOUNDS'), \n",
    "                    fm('FROM_RECHARGE'),fm('FROM_ZONE_1'), fm('FROM_ZONE_2'),\n",
    "                    fm('TOTAL_IN'), fm('TO_STORAGE'), fm('TO_CONSTANT_HEAD'), fm('TO_WELLS'),\n",
    "                    fm('TO_RIVER_LEAKAGE'), fm('TO_HEAD_DEP_BOUNDS'), fm('TO_RECHARGE'),\n",
    "                    fm('TO_ZONE_1'), fm('TO_ZONE_2'),fm('TOTAL_OUT'),\n",
    "                    fm('IN-OUT'), fm('PERCENT_DISCREPANCY')))\n",
    "ship_columns_m1 = ['Stress Period', 'Time','Total Time','ZONES','FROM STORAGE', 'FROM CONSTANT HEAD',\n",
    "                   'FROM WELLS', 'FROM RIVER LEAKAGE', 'FROM HEAD DEP BOUNDS', 'FROM RECHARGE',\n",
    "                   'FROM ZONE 1', 'FROM ZONE 2', 'TOTAL IN (m3/day)', 'TO STORAGE',\n",
    "                   'TO CONSTANT HEAD', 'TO WELLS', 'TO RIVER LEAKAGE', 'TO HEAD DEP BOUNDS',\n",
    "                   'TO RECHARGE', 'TO ZONE 1', 'TO ZONE 2', 'TOTAL OUT (m3/day)',\n",
    "                   'IN-OUT (m3/day)', 'PERCENT DISCREPANCY']"
   ]
  },
  {
   "cell_type": "code",
   "execution_count": 31,
   "metadata": {},
   "outputs": [],
   "source": [
    "Balance_masas = pd.DataFrame(columns=ship_columns_m1, data=lista_m1)"
   ]
  },
  {
   "cell_type": "markdown",
   "metadata": {},
   "source": [
    "### *2.2. BALANCE DE MASAS ANUAL (hm3)* "
   ]
  },
  {
   "cell_type": "code",
   "execution_count": 32,
   "metadata": {},
   "outputs": [],
   "source": [
    "def fm_anual(x, zone):\n",
    "    df_1 = df_masas.loc[(time,[x]), zone]\n",
    "    df_2 = df_1.values.tolist()\n",
    "    df_4 = []\n",
    "    for i in range(len(perlen)):\n",
    "        df_4.append(df_2[i]*perlen[i])\n",
    "    \n",
    "    df_5 = []\n",
    "    v = int(len(perlen)/12) # Cada 12 meses\n",
    "    for i in range(v):\n",
    "        df_5.append(sum(df_4[12*i:12*(i+1)])/1000000)\n",
    "    return df_5\n",
    "\n",
    "Years = []\n",
    "anio_hidro1 = 1980\n",
    "anio_hidro2 = 81\n",
    "for i in range(int(len(perlen)/12)):\n",
    "    if anio_hidro1 < 1999:\n",
    "        Years.append(str(anio_hidro1)+'/'+str(anio_hidro2))\n",
    "    else:\n",
    "        if anio_hidro1 < 2009:\n",
    "            Years.append(str(anio_hidro1)+'/'+ str(0)+str(anio_hidro2-100))\n",
    "        else:\n",
    "            Years.append(str(anio_hidro1)+'/'+str(anio_hidro2-100))\n",
    "       \n",
    "    anio_hidro1 = anio_hidro1 +1\n",
    "    anio_hidro2 = anio_hidro2+1"
   ]
  },
  {
   "cell_type": "markdown",
   "metadata": {},
   "source": [
    "#### *2.2.1. BALANCE DE MASAS ANUAL - RU (hm3)* "
   ]
  },
  {
   "cell_type": "code",
   "execution_count": 33,
   "metadata": {},
   "outputs": [],
   "source": [
    "masa_RU =['Requena-Utiel']*int(len(perlen)/12)"
   ]
  },
  {
   "cell_type": "code",
   "execution_count": 34,
   "metadata": {},
   "outputs": [],
   "source": [
    "lista_RU = list(zip(Years, masa_RU, fm_anual('FROM_STORAGE','ZONE_1'), fm_anual('FROM_CONSTANT_HEAD','ZONE_1'),\n",
    "                    fm_anual('FROM_WELLS','ZONE_1'), fm_anual('FROM_RIVER_LEAKAGE','ZONE_1'),fm_anual('FROM_HEAD_DEP_BOUNDS','ZONE_1'),\n",
    "                    fm_anual('FROM_RECHARGE','ZONE_1'),fm_anual('FROM_ZONE_2','ZONE_1'),fm_anual('TOTAL_IN','ZONE_1'),\n",
    "                    fm_anual('TO_STORAGE','ZONE_1'), fm_anual('TO_CONSTANT_HEAD','ZONE_1'), fm_anual('TO_WELLS','ZONE_1'),\n",
    "                    fm_anual('TO_RIVER_LEAKAGE','ZONE_1'), fm_anual('TO_HEAD_DEP_BOUNDS','ZONE_1'), fm_anual('TO_RECHARGE','ZONE_1'),\n",
    "                    fm_anual('TO_ZONE_2','ZONE_1'), fm_anual('TOTAL_OUT','ZONE_1'), fm_anual('IN-OUT','ZONE_1'),\n",
    "                    fm_anual('PERCENT_DISCREPANCY','ZONE_1')))\n",
    "ship_columns_RU = ['Year', 'Masa','FROM STORAGE', 'FROM CONSTANT HEAD', 'FROM WELLS',\n",
    "                'FROM RIVER LEAKAGE', 'FROM HEAD DEP BOUNDS', 'FROM RECHARGE', 'FROM ZONE 2',\n",
    "                'TOTAL IN (hm3/year)', 'TO STORAGE', 'TO CONSTANT HEAD', 'TO WELLS', \n",
    "                'TO RIVER LEAKAGE', 'TO HEAD DEP BOUNDS', 'TO RECHARGE', 'TO ZONE 2',\n",
    "                'TOTAL OUT (hm3/year)', 'IN-OUT (hm3/year)', 'PERCENT DISCREPANCY']"
   ]
  },
  {
   "cell_type": "code",
   "execution_count": 35,
   "metadata": {},
   "outputs": [
    {
     "data": {
      "text/html": [
       "<div>\n",
       "<style scoped>\n",
       "    .dataframe tbody tr th:only-of-type {\n",
       "        vertical-align: middle;\n",
       "    }\n",
       "\n",
       "    .dataframe tbody tr th {\n",
       "        vertical-align: top;\n",
       "    }\n",
       "\n",
       "    .dataframe thead th {\n",
       "        text-align: right;\n",
       "    }\n",
       "</style>\n",
       "<table border=\"1\" class=\"dataframe\">\n",
       "  <thead>\n",
       "    <tr style=\"text-align: right;\">\n",
       "      <th></th>\n",
       "      <th>Year</th>\n",
       "      <th>Masa</th>\n",
       "      <th>FROM STORAGE</th>\n",
       "      <th>FROM CONSTANT HEAD</th>\n",
       "      <th>FROM WELLS</th>\n",
       "      <th>FROM RIVER LEAKAGE</th>\n",
       "      <th>FROM HEAD DEP BOUNDS</th>\n",
       "      <th>FROM RECHARGE</th>\n",
       "      <th>FROM ZONE 2</th>\n",
       "      <th>TOTAL IN (hm3/year)</th>\n",
       "      <th>TO STORAGE</th>\n",
       "      <th>TO CONSTANT HEAD</th>\n",
       "      <th>TO WELLS</th>\n",
       "      <th>TO RIVER LEAKAGE</th>\n",
       "      <th>TO HEAD DEP BOUNDS</th>\n",
       "      <th>TO RECHARGE</th>\n",
       "      <th>TO ZONE 2</th>\n",
       "      <th>TOTAL OUT (hm3/year)</th>\n",
       "      <th>IN-OUT (hm3/year)</th>\n",
       "      <th>PERCENT DISCREPANCY</th>\n",
       "    </tr>\n",
       "  </thead>\n",
       "  <tbody>\n",
       "    <tr>\n",
       "      <th>0</th>\n",
       "      <td>1980/81</td>\n",
       "      <td>Requena-Utiel</td>\n",
       "      <td>539.761326</td>\n",
       "      <td>0.0</td>\n",
       "      <td>0.0</td>\n",
       "      <td>1.766334</td>\n",
       "      <td>25.841008</td>\n",
       "      <td>40.910135</td>\n",
       "      <td>7.473885</td>\n",
       "      <td>615.752697</td>\n",
       "      <td>578.382898</td>\n",
       "      <td>0.0</td>\n",
       "      <td>4.551362</td>\n",
       "      <td>5.919061</td>\n",
       "      <td>8.424032</td>\n",
       "      <td>0.0</td>\n",
       "      <td>18.444112</td>\n",
       "      <td>615.721467</td>\n",
       "      <td>0.031231</td>\n",
       "      <td>2.854410e-06</td>\n",
       "    </tr>\n",
       "    <tr>\n",
       "      <th>1</th>\n",
       "      <td>1981/82</td>\n",
       "      <td>Requena-Utiel</td>\n",
       "      <td>232.971302</td>\n",
       "      <td>0.0</td>\n",
       "      <td>0.0</td>\n",
       "      <td>1.757906</td>\n",
       "      <td>20.795016</td>\n",
       "      <td>5.847525</td>\n",
       "      <td>7.653872</td>\n",
       "      <td>269.025622</td>\n",
       "      <td>234.629647</td>\n",
       "      <td>0.0</td>\n",
       "      <td>4.531660</td>\n",
       "      <td>5.489209</td>\n",
       "      <td>8.418451</td>\n",
       "      <td>0.0</td>\n",
       "      <td>15.958552</td>\n",
       "      <td>269.027526</td>\n",
       "      <td>-0.001903</td>\n",
       "      <td>-2.969765e-07</td>\n",
       "    </tr>\n",
       "    <tr>\n",
       "      <th>2</th>\n",
       "      <td>1982/83</td>\n",
       "      <td>Requena-Utiel</td>\n",
       "      <td>174.702307</td>\n",
       "      <td>0.0</td>\n",
       "      <td>0.0</td>\n",
       "      <td>1.717645</td>\n",
       "      <td>18.950447</td>\n",
       "      <td>48.772413</td>\n",
       "      <td>7.928815</td>\n",
       "      <td>252.071630</td>\n",
       "      <td>218.975997</td>\n",
       "      <td>0.0</td>\n",
       "      <td>4.511957</td>\n",
       "      <td>5.147557</td>\n",
       "      <td>8.404569</td>\n",
       "      <td>0.0</td>\n",
       "      <td>15.015658</td>\n",
       "      <td>252.055738</td>\n",
       "      <td>0.015892</td>\n",
       "      <td>2.905027e-06</td>\n",
       "    </tr>\n",
       "    <tr>\n",
       "      <th>3</th>\n",
       "      <td>1983/84</td>\n",
       "      <td>Requena-Utiel</td>\n",
       "      <td>140.873367</td>\n",
       "      <td>0.0</td>\n",
       "      <td>0.0</td>\n",
       "      <td>1.791863</td>\n",
       "      <td>18.243311</td>\n",
       "      <td>14.653503</td>\n",
       "      <td>8.091437</td>\n",
       "      <td>183.653479</td>\n",
       "      <td>151.203446</td>\n",
       "      <td>0.0</td>\n",
       "      <td>4.492254</td>\n",
       "      <td>4.982999</td>\n",
       "      <td>8.411259</td>\n",
       "      <td>0.0</td>\n",
       "      <td>14.543025</td>\n",
       "      <td>183.632984</td>\n",
       "      <td>0.020495</td>\n",
       "      <td>3.066801e-06</td>\n",
       "    </tr>\n",
       "    <tr>\n",
       "      <th>4</th>\n",
       "      <td>1984/85</td>\n",
       "      <td>Requena-Utiel</td>\n",
       "      <td>123.752756</td>\n",
       "      <td>0.0</td>\n",
       "      <td>0.0</td>\n",
       "      <td>1.777369</td>\n",
       "      <td>17.402038</td>\n",
       "      <td>49.779313</td>\n",
       "      <td>8.403425</td>\n",
       "      <td>201.114903</td>\n",
       "      <td>169.478784</td>\n",
       "      <td>0.0</td>\n",
       "      <td>4.474383</td>\n",
       "      <td>4.830652</td>\n",
       "      <td>8.377829</td>\n",
       "      <td>0.0</td>\n",
       "      <td>13.943565</td>\n",
       "      <td>201.105213</td>\n",
       "      <td>0.009690</td>\n",
       "      <td>4.814379e-06</td>\n",
       "    </tr>\n",
       "  </tbody>\n",
       "</table>\n",
       "</div>"
      ],
      "text/plain": [
       "      Year           Masa  FROM STORAGE  FROM CONSTANT HEAD  FROM WELLS  \\\n",
       "0  1980/81  Requena-Utiel    539.761326                 0.0         0.0   \n",
       "1  1981/82  Requena-Utiel    232.971302                 0.0         0.0   \n",
       "2  1982/83  Requena-Utiel    174.702307                 0.0         0.0   \n",
       "3  1983/84  Requena-Utiel    140.873367                 0.0         0.0   \n",
       "4  1984/85  Requena-Utiel    123.752756                 0.0         0.0   \n",
       "\n",
       "   FROM RIVER LEAKAGE  FROM HEAD DEP BOUNDS  FROM RECHARGE  FROM ZONE 2  \\\n",
       "0            1.766334             25.841008      40.910135     7.473885   \n",
       "1            1.757906             20.795016       5.847525     7.653872   \n",
       "2            1.717645             18.950447      48.772413     7.928815   \n",
       "3            1.791863             18.243311      14.653503     8.091437   \n",
       "4            1.777369             17.402038      49.779313     8.403425   \n",
       "\n",
       "   TOTAL IN (hm3/year)  TO STORAGE  TO CONSTANT HEAD  TO WELLS  \\\n",
       "0           615.752697  578.382898               0.0  4.551362   \n",
       "1           269.025622  234.629647               0.0  4.531660   \n",
       "2           252.071630  218.975997               0.0  4.511957   \n",
       "3           183.653479  151.203446               0.0  4.492254   \n",
       "4           201.114903  169.478784               0.0  4.474383   \n",
       "\n",
       "   TO RIVER LEAKAGE  TO HEAD DEP BOUNDS  TO RECHARGE  TO ZONE 2  \\\n",
       "0          5.919061            8.424032          0.0  18.444112   \n",
       "1          5.489209            8.418451          0.0  15.958552   \n",
       "2          5.147557            8.404569          0.0  15.015658   \n",
       "3          4.982999            8.411259          0.0  14.543025   \n",
       "4          4.830652            8.377829          0.0  13.943565   \n",
       "\n",
       "   TOTAL OUT (hm3/year)  IN-OUT (hm3/year)  PERCENT DISCREPANCY  \n",
       "0            615.721467           0.031231         2.854410e-06  \n",
       "1            269.027526          -0.001903        -2.969765e-07  \n",
       "2            252.055738           0.015892         2.905027e-06  \n",
       "3            183.632984           0.020495         3.066801e-06  \n",
       "4            201.105213           0.009690         4.814379e-06  "
      ]
     },
     "execution_count": 35,
     "metadata": {},
     "output_type": "execute_result"
    }
   ],
   "source": [
    "Balance_RU = pd.DataFrame(columns=ship_columns_RU, data=lista_RU)\n",
    "Balance_RU.head()"
   ]
  },
  {
   "cell_type": "markdown",
   "metadata": {},
   "source": [
    "#### *2.2.2. BALANCE DE MASAS ANUAL - CM (hm3)* "
   ]
  },
  {
   "cell_type": "code",
   "execution_count": 36,
   "metadata": {},
   "outputs": [],
   "source": [
    "masa_CM =['Cabrillas-Malacara']*int(len(perlen)/12)"
   ]
  },
  {
   "cell_type": "code",
   "execution_count": 37,
   "metadata": {},
   "outputs": [],
   "source": [
    "lista_CM = list(zip(Years, masa_CM, fm_anual('FROM_STORAGE','ZONE_2'), fm_anual('FROM_CONSTANT_HEAD','ZONE_2'),\n",
    "                    fm_anual('FROM_WELLS','ZONE_2'), fm_anual('FROM_RIVER_LEAKAGE','ZONE_2'),fm_anual('FROM_HEAD_DEP_BOUNDS','ZONE_2'),\n",
    "                    fm_anual('FROM_RECHARGE','ZONE_2'),fm_anual('FROM_ZONE_1','ZONE_2'),fm_anual('TOTAL_IN','ZONE_2'),\n",
    "                    fm_anual('TO_STORAGE','ZONE_2'), fm_anual('TO_CONSTANT_HEAD','ZONE_2'), fm_anual('TO_WELLS','ZONE_2'),\n",
    "                    fm_anual('TO_RIVER_LEAKAGE','ZONE_2'), fm_anual('TO_HEAD_DEP_BOUNDS','ZONE_2'), fm_anual('TO_RECHARGE','ZONE_2'),\n",
    "                    fm_anual('TO_ZONE_1','ZONE_2'), fm_anual('TOTAL_OUT','ZONE_2'), fm_anual('IN-OUT','ZONE_2'),\n",
    "                    fm_anual('PERCENT_DISCREPANCY','ZONE_2')))\n",
    "ship_columns_CM = ['Year', 'Masa','FROM STORAGE', 'FROM CONSTANT HEAD', 'FROM WELLS',\n",
    "                'FROM RIVER LEAKAGE', 'FROM HEAD DEP BOUNDS', 'FROM RECHARGE', 'FROM ZONE 1',\n",
    "                'TOTAL IN (hm3/year)', 'TO STORAGE', 'TO CONSTANT HEAD', 'TO WELLS', \n",
    "                'TO RIVER LEAKAGE', 'TO HEAD DEP BOUNDS', 'TO RECHARGE', 'TO ZONE 1',\n",
    "                'TOTAL OUT (hm3/year)', 'IN-OUT (hm3/year)', 'PERCENT DISCREPANCY']"
   ]
  },
  {
   "cell_type": "code",
   "execution_count": 38,
   "metadata": {},
   "outputs": [],
   "source": [
    "Balance_CM = pd.DataFrame(columns=ship_columns_CM, data=lista_CM)"
   ]
  },
  {
   "cell_type": "markdown",
   "metadata": {},
   "source": [
    "### *2.3. BALANCE DE MASAS - PROMEDIO ANUAL (hm3)* "
   ]
  },
  {
   "cell_type": "code",
   "execution_count": 39,
   "metadata": {},
   "outputs": [],
   "source": [
    "# Funcion para los promedios anuales:\n",
    "def f_masa_prom(entrada,salida,zone):\n",
    "    masa_entrada = fm_anual(entrada,zone)\n",
    "    masa_salida = fm_anual(salida,zone)\n",
    "    masa_entrada_prom = sum(masa_entrada)/len(masa_entrada)\n",
    "    masa_salida_prom = sum(masa_salida)/len(masa_salida)\n",
    "    masa_delta_prom = masa_entrada_prom - masa_salida_prom\n",
    "\n",
    "    return [masa_entrada_prom, masa_salida_prom, masa_delta_prom]"
   ]
  },
  {
   "cell_type": "markdown",
   "metadata": {},
   "source": [
    "#### *2.3.1. RU - PROMEDIO ANUAL (hm3)* "
   ]
  },
  {
   "cell_type": "code",
   "execution_count": 40,
   "metadata": {},
   "outputs": [],
   "source": [
    "RU_prom = [f_masa_prom('FROM_RECHARGE','TO_RECHARGE','ZONE_1'),\n",
    "           f_masa_prom('FROM_HEAD_DEP_BOUNDS','TO_HEAD_DEP_BOUNDS','ZONE_1'),\n",
    "           f_masa_prom('FROM_RIVER_LEAKAGE','TO_RIVER_LEAKAGE','ZONE_1'),\n",
    "           f_masa_prom('FROM_WELLS','TO_WELLS','ZONE_1')]"
   ]
  },
  {
   "cell_type": "code",
   "execution_count": 41,
   "metadata": {},
   "outputs": [],
   "source": [
    "entrada_RU_prom = []\n",
    "for i in range(len(RU_prom)):\n",
    "    entrada_RU_prom.append(round((RU_prom[i][0]),2))\n",
    "entrada_RU_prom.append(sum(entrada_RU_prom))\n",
    "\n",
    "salida_RU_prom = []\n",
    "for i in range(len(RU_prom)):\n",
    "    salida_RU_prom.append(round((RU_prom[i][1]),2))\n",
    "salida_RU_prom.append(sum(salida_RU_prom))\n",
    "\n",
    "delta_RU_prom = []\n",
    "for i in range(len(RU_prom)):\n",
    "    delta_RU_prom.append(round((RU_prom[i][2]),2))\n",
    "delta_RU_prom.append(sum(delta_RU_prom))"
   ]
  },
  {
   "cell_type": "code",
   "execution_count": 42,
   "metadata": {},
   "outputs": [],
   "source": [
    "descr_RU_prom = ['Recarga', 'Otras Masas', 'Río - Acuífero', \n",
    "             'Bombeo', 'TOTAL']\n",
    "lista_RU_prom = list(zip(descr_RU_prom,entrada_RU_prom, salida_RU_prom, delta_RU_prom))\n",
    "ship_columns_RU_prom = ['Descripción','Entrada (hm3)','Salida (hm3)','Delta (hm3)']"
   ]
  },
  {
   "cell_type": "code",
   "execution_count": 43,
   "metadata": {},
   "outputs": [],
   "source": [
    "RU_resumen = pd.DataFrame(columns=ship_columns_RU_prom, data=lista_RU_prom)"
   ]
  },
  {
   "cell_type": "markdown",
   "metadata": {},
   "source": [
    "#### *2.3.2. CM - PROMEDIO ANUAL (hm3)* "
   ]
  },
  {
   "cell_type": "code",
   "execution_count": 44,
   "metadata": {},
   "outputs": [],
   "source": [
    "CM_prom = [f_masa_prom('FROM_RECHARGE','TO_RECHARGE','ZONE_2'),\n",
    "           f_masa_prom('FROM_HEAD_DEP_BOUNDS','TO_HEAD_DEP_BOUNDS','ZONE_2'),\n",
    "           f_masa_prom('FROM_RIVER_LEAKAGE','TO_RIVER_LEAKAGE','ZONE_2'),\n",
    "           f_masa_prom('FROM_WELLS','TO_WELLS','ZONE_2')]"
   ]
  },
  {
   "cell_type": "code",
   "execution_count": 45,
   "metadata": {},
   "outputs": [],
   "source": [
    "entrada_CM_prom = []\n",
    "for i in range(len(CM_prom)):\n",
    "    entrada_CM_prom.append(round((CM_prom[i][0]),2))\n",
    "entrada_CM_prom.append(sum(entrada_CM_prom))\n",
    "\n",
    "salida_CM_prom = []\n",
    "for i in range(len(CM_prom)):\n",
    "    salida_CM_prom.append(round((CM_prom[i][1]),2))\n",
    "salida_CM_prom.append(sum(salida_CM_prom))\n",
    "\n",
    "delta_CM_prom = []\n",
    "for i in range(len(CM_prom)):\n",
    "    delta_CM_prom.append(round((CM_prom[i][2]),2))\n",
    "delta_CM_prom.append(sum(delta_CM_prom))"
   ]
  },
  {
   "cell_type": "code",
   "execution_count": 46,
   "metadata": {},
   "outputs": [],
   "source": [
    "descr_CM_prom = ['Recarga', 'Otras Masas', 'Río - Acuífero', \n",
    "             'Bombeo', 'TOTAL']\n",
    "lista_CM_prom = list(zip(descr_CM_prom,entrada_CM_prom, salida_CM_prom, delta_CM_prom))\n",
    "ship_columns_CM_prom = ['Descripción','Entrada (hm3)','Salida (hm3)','Delta (hm3)']"
   ]
  },
  {
   "cell_type": "code",
   "execution_count": 47,
   "metadata": {},
   "outputs": [],
   "source": [
    "CM_resumen = pd.DataFrame(columns=ship_columns_CM_prom, data=lista_CM_prom)"
   ]
  },
  {
   "cell_type": "markdown",
   "metadata": {},
   "source": [
    "## BALANCE TOTAL - Exportando a Excel"
   ]
  },
  {
   "cell_type": "code",
   "execution_count": 48,
   "metadata": {},
   "outputs": [],
   "source": [
    "writer_WB = pd.ExcelWriter(model_ws + '/' + wb_name +'_Total.xlsx')\n",
    "WB_resumen.to_excel(writer_WB,'PromedioAnual',index=True)\n",
    "Balance.to_excel(writer_WB,'m3-d',index=True)\n",
    "Balance_2.to_excel(writer_WB,'m3-mes',index=True)\n",
    "Balance_3.to_excel(writer_WB,'acum_m3',index=True)\n",
    "Balance_4.to_excel(writer_WB,'acum_hm3',index=True)\n",
    "Balance_5.to_excel(writer_WB,'hm3-year',index=True)\n",
    "writer_WB.save()"
   ]
  },
  {
   "cell_type": "markdown",
   "metadata": {},
   "source": [
    "## BALANCE DE MASAS - Exportando a Excel"
   ]
  },
  {
   "cell_type": "code",
   "execution_count": 49,
   "metadata": {},
   "outputs": [],
   "source": [
    "writer_BM = pd.ExcelWriter(model_ws + '/' + wb_name +'_Masas.xlsx')\n",
    "Balance_masas.to_excel(writer_BM,'masas_m3-d',index=True)\n",
    "RU_resumen.to_excel(writer_BM,'RU_PromedioAnual',index=True)\n",
    "CM_resumen.to_excel(writer_BM,'CM_PromedioAnual',index=True)\n",
    "Balance_RU.to_excel(writer_BM,'RU_hm3-year',index=True)\n",
    "Balance_CM.to_excel(writer_BM,'CM_hm3-year',index=True)\n",
    "writer_BM.save()"
   ]
  }
 ],
 "metadata": {
  "kernelspec": {
   "display_name": "Python 3",
   "language": "python",
   "name": "python3"
  },
  "language_info": {
   "codemirror_mode": {
    "name": "ipython",
    "version": 3
   },
   "file_extension": ".py",
   "mimetype": "text/x-python",
   "name": "python",
   "nbconvert_exporter": "python",
   "pygments_lexer": "ipython3",
   "version": "3.8.3"
  }
 },
 "nbformat": 4,
 "nbformat_minor": 4
}
