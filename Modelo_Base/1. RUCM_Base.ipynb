{
 "cells": [
  {
   "cell_type": "markdown",
   "metadata": {},
   "source": [
    "### **Import Libraries**"
   ]
  },
  {
   "cell_type": "code",
   "execution_count": null,
   "metadata": {},
   "outputs": [],
   "source": [
    "import os\n",
    "import pandas as pd\n",
    "import flopy\n",
    "import matplotlib\n",
    "import numpy as np\n",
    "import matplotlib.pyplot as plt\n",
    "import flopy.utils.binaryfile as bf\n",
    "import math\n",
    "from flopy.utils.gridgen import Gridgen"
   ]
  },
  {
   "cell_type": "code",
   "execution_count": 2,
   "metadata": {},
   "outputs": [],
   "source": [
    "import geopandas as gpd\n",
    "import flopy.discretization as fgrid\n",
    "from flopy.utils.gridintersect import GridIntersect\n",
    "from shapely.geometry import MultiLineString"
   ]
  },
  {
   "cell_type": "markdown",
   "metadata": {},
   "source": [
    "### **Model Name**"
   ]
  },
  {
   "cell_type": "code",
   "execution_count": 3,
   "metadata": {},
   "outputs": [],
   "source": [
    "model_ws='../../Outputs/Resultados_Base/'\n",
    "modelname= 'RUCM_Base'\n",
    "exe_name= '../../Solver/mf2005.exe'\n",
    "mf= flopy.modflow.Modflow(modelname, exe_name=exe_name, model_ws=model_ws)"
   ]
  },
  {
   "cell_type": "markdown",
   "metadata": {},
   "source": [
    "### **Basin**"
   ]
  },
  {
   "cell_type": "code",
   "execution_count": 4,
   "metadata": {},
   "outputs": [],
   "source": [
    "# Shapefile de la cuenca:\n",
    "basinDf = gpd.read_file(\"../../Inputs/Data_GIS/Shp/Cuenca/RUCM_Cuenca.shp\")\n",
    "basinGeom = basinDf.iloc[0].geometry"
   ]
  },
  {
   "cell_type": "code",
   "execution_count": 5,
   "metadata": {},
   "outputs": [],
   "source": [
    "# Obteniendo los distancias geometricas de la cuenca:\n",
    "basinGeomXDim = basinGeom.bounds[2] - basinGeom.bounds[0]\n",
    "basinGeomYDim = basinGeom.bounds[3] - basinGeom.bounds[1]"
   ]
  },
  {
   "cell_type": "markdown",
   "metadata": {},
   "source": [
    "### **DISCRETIZACION**"
   ]
  },
  {
   "cell_type": "markdown",
   "metadata": {},
   "source": [
    "##### *DISCRETIZACION TEMPORAL* "
   ]
  },
  {
   "cell_type": "code",
   "execution_count": 6,
   "metadata": {},
   "outputs": [],
   "source": [
    "# Calendario\n",
    "import calendar\n",
    "anio_inicial = 1980\n",
    "anio_final = 2016\n",
    "\n",
    "time = []\n",
    "for anio in range(anio_inicial,anio_final+1): # intervalo de años\n",
    "    for mes in range(1,13):\n",
    "        x = calendar.monthrange(anio,mes)\n",
    "        time.append(x[1]) # extrayendo solo los dias\n",
    "time_days = time[9:-3:1] #inicia en Octubre y termina en Setiembre"
   ]
  },
  {
   "cell_type": "code",
   "execution_count": 7,
   "metadata": {},
   "outputs": [],
   "source": [
    "# Discretizacion temporal:\n",
    "nper = len(time_days) #numero de stress period\n",
    "perlen = time_days  #tiempo total de cada periodo\n",
    "nstp = [1]+[1]*(nper-1) #time step\n",
    "tsmult = [1]+[1]*(nper-1) #multiplicador\n",
    "steady = [False]+[False]*(nper-1) # estado transitorio desde el 1° stress period"
   ]
  },
  {
   "cell_type": "markdown",
   "metadata": {},
   "source": [
    "##### *DISCRETIZACION ESPACIAL* "
   ]
  },
  {
   "cell_type": "code",
   "execution_count": 8,
   "metadata": {},
   "outputs": [],
   "source": [
    "# Discretizacion espacial preliminar:\n",
    "ztop = 600\n",
    "zbot = [-66, -152, -360]\n",
    "nlay = 3\n",
    "delr = 500\n",
    "delc = 500\n",
    "nrow = 99\n",
    "ncol = 127"
   ]
  },
  {
   "cell_type": "code",
   "execution_count": 9,
   "metadata": {},
   "outputs": [],
   "source": [
    "sgr = fgrid.StructuredGrid(delc*np.ones(nrow), delr*np.ones(ncol),\n",
    "                           xoff=626814.041187938, yoff=4349765.06031221)"
   ]
  },
  {
   "cell_type": "code",
   "execution_count": 10,
   "metadata": {},
   "outputs": [],
   "source": [
    "ix = GridIntersect(sgr, method='vertex', rtree=True)"
   ]
  },
  {
   "cell_type": "code",
   "execution_count": 11,
   "metadata": {},
   "outputs": [],
   "source": [
    "basin_intersected = ix.intersect_polygon(basinGeom)"
   ]
  },
  {
   "cell_type": "code",
   "execution_count": 12,
   "metadata": {},
   "outputs": [],
   "source": [
    "# PAQUETE DIS\n",
    "dis=flopy.modflow.ModflowDis(mf, nlay=nlay, nrow=nrow, ncol=ncol, delr=delr, delc=delc,\n",
    "                             top=ztop, botm=zbot, nper=nper, nstp=nstp, perlen=perlen,\n",
    "                             tsmult=tsmult, steady=steady, start_datetime='1/1/1980')\n",
    "mf.modelgrid.set_coord_info(xoff=626814.041187938, yoff=4349765.06031221,\n",
    "                           angrot=0, epsg=25830) "
   ]
  },
  {
   "cell_type": "code",
   "execution_count": 13,
   "metadata": {},
   "outputs": [],
   "source": [
    "from scipy.interpolate import griddata\n",
    "import pandas as pd"
   ]
  },
  {
   "cell_type": "code",
   "execution_count": 14,
   "metadata": {},
   "outputs": [],
   "source": [
    "Data_mtop = pd.read_excel('../../Inputs/Datos_del_modelo.xlsx', \n",
    "                                sheet_name='mtop')\n",
    "mtop = Data_mtop.to_numpy()"
   ]
  },
  {
   "cell_type": "code",
   "execution_count": 15,
   "metadata": {},
   "outputs": [],
   "source": [
    "mf.dis.top = mtop "
   ]
  },
  {
   "cell_type": "code",
   "execution_count": 16,
   "metadata": {},
   "outputs": [],
   "source": [
    "zbot = np.zeros((nlay, nrow, ncol))\n",
    "zbot[0,:,:] = mtop -66\n",
    "zbot[1,:,:] = mtop -152 \n",
    "zbot[2,:,:] = mtop -360"
   ]
  },
  {
   "cell_type": "code",
   "execution_count": 17,
   "metadata": {},
   "outputs": [],
   "source": [
    "mf.dis.botm = zbot"
   ]
  },
  {
   "cell_type": "markdown",
   "metadata": {},
   "source": [
    "### **ALTURAS INICIALES** "
   ]
  },
  {
   "cell_type": "code",
   "execution_count": 18,
   "metadata": {},
   "outputs": [],
   "source": [
    "Data_AlturasIniciales = pd.read_excel('../../Inputs/Datos_del_modelo.xlsx', \n",
    "                                sheet_name='Alturas_Iniciales')\n",
    "top_AI = Data_AlturasIniciales.to_numpy()"
   ]
  },
  {
   "cell_type": "markdown",
   "metadata": {},
   "source": [
    "### **BAS** "
   ]
  },
  {
   "cell_type": "code",
   "execution_count": 19,
   "metadata": {},
   "outputs": [],
   "source": [
    "# Variables for the BAS package\n",
    "idomain = np.zeros((nlay, nrow, ncol))\n",
    "for i in basin_intersected.cellids:\n",
    "    idomain[:,i[0],i[1]]=1\n",
    "    idomain[:,76,54]=1\n",
    "    idomain[:,83,65]=1"
   ]
  },
  {
   "cell_type": "code",
   "execution_count": 20,
   "metadata": {},
   "outputs": [],
   "source": [
    "mf.modelgrid.set_coord_info(xoff=626814.041187938, yoff=4349765.06031221,\n",
    "                            angrot=0, epsg=25830)                        \n",
    "                            #xoff=basinGeom.bounds[0], yoff=basinGeom.bounds[1],\n",
    "bas = flopy.modflow.ModflowBas(mf,ibound=idomain,\n",
    "                               strt=np.stack([top_AI for i in range(nlay)]),\n",
    "                              ichflg= 'CHTOCH')"
   ]
  },
  {
   "cell_type": "markdown",
   "metadata": {},
   "source": [
    "### **CONDUCTIVIDAD HIDRAULICA** "
   ]
  },
  {
   "cell_type": "code",
   "execution_count": 21,
   "metadata": {},
   "outputs": [],
   "source": [
    "# leyendo el archivo excel:\n",
    "Excel_Kx_Layer1 = pd.read_excel('../../Inputs/Datos_del_modelo.xlsx', \n",
    "                                sheet_name='Parametros', usecols=[1])\n",
    "Excel_Kx_Layer2 = pd.read_excel('../../Inputs/Datos_del_modelo.xlsx', \n",
    "                                sheet_name='Parametros', usecols=[2])\n",
    "Excel_Kx_Layer3 = pd.read_excel('../../Inputs/Datos_del_modelo.xlsx', \n",
    "                                sheet_name='Parametros', usecols=[3])"
   ]
  },
  {
   "cell_type": "code",
   "execution_count": 22,
   "metadata": {},
   "outputs": [],
   "source": [
    "#Convirtiendo de lista a matriz\n",
    "Kx_Layer1 = Excel_Kx_Layer1.values.tolist()\n",
    "Kx_Layer2 = Excel_Kx_Layer2.values.tolist()\n",
    "Kx_Layer3 = Excel_Kx_Layer3.values.tolist()\n",
    "#Extrayendo los valores del matriz\n",
    "Kx_Layer1_valor=[y for x in Kx_Layer1 for y in x]\n",
    "Kx_Layer2_valor=[y for x in Kx_Layer2 for y in x]\n",
    "Kx_Layer3_valor=[y for x in Kx_Layer3 for y in x]"
   ]
  },
  {
   "cell_type": "code",
   "execution_count": 23,
   "metadata": {},
   "outputs": [],
   "source": [
    "#Leyendo los shapefiles\n",
    "Zonificacion_Parametros = gpd.read_file(\"../../Inputs/Data_GIS/Shp/Parametros/RUCM_Zonificacion_Parametros.shp\")"
   ]
  },
  {
   "cell_type": "code",
   "execution_count": 24,
   "metadata": {},
   "outputs": [],
   "source": [
    "# Creando una funcion para la CH:\n",
    "def Funcion_Conductividad_Hidraulica(i):\n",
    "    Zonificacion_Geom = Zonificacion_Parametros.iloc[i].geometry #Extrayendo la propiedad de geometria de los shapefiles por zonas\n",
    "    Zona_intersected = ix.intersect_polygon(Zonificacion_Geom) #Intersecando el shapefile y la grilla\n",
    "    \n",
    "    #Integrando las conductividades hidraulicas por zonas:\n",
    "    Kx_Zona = np.zeros((nlay, nrow, ncol)) #Creando matrices nlay,nrow,ncol por zonas:\n",
    "    for j in Zona_intersected.cellids:\n",
    "        Kx_Zona[0,j[0],j[1]] = Kx_Layer1_valor[i]\n",
    "        Kx_Zona[1,j[0],j[1]] = Kx_Layer2_valor[i]\n",
    "        Kx_Zona[2,j[0],j[1]] = Kx_Layer3_valor[i]\n",
    "    return Kx_Zona"
   ]
  },
  {
   "cell_type": "code",
   "execution_count": 25,
   "metadata": {},
   "outputs": [],
   "source": [
    "# Conductividades hidraulicas por zona:\n",
    "Kx_Aluvial_1 = Funcion_Conductividad_Hidraulica(0)\n",
    "Kx_Aluvial_2 = Funcion_Conductividad_Hidraulica(1)\n",
    "Kx_Aluvial_3 = Funcion_Conductividad_Hidraulica(2)\n",
    "Kx_CarbonatadaAlta_1 = Funcion_Conductividad_Hidraulica(3)\n",
    "Kx_CarbonatadaAlta_2 = Funcion_Conductividad_Hidraulica(4)\n",
    "Kx_CarbonatadaAlta_3 = Funcion_Conductividad_Hidraulica(5)\n",
    "Kx_CarbonatadaAlta_4 = Funcion_Conductividad_Hidraulica(6)\n",
    "Kx_CarbonatadaMedia_1 = Funcion_Conductividad_Hidraulica(7)\n",
    "Kx_CarbonatadaMedia_2 = Funcion_Conductividad_Hidraulica(8)\n",
    "Kx_CarbonatadaMedia_3 = Funcion_Conductividad_Hidraulica(9)\n",
    "Kx_CarbonatadaMedia_4 = Funcion_Conductividad_Hidraulica(10)\n",
    "Kx_CarbonatadaMedia_5 = Funcion_Conductividad_Hidraulica(11)\n",
    "Kx_DetreticaMedia_1 = Funcion_Conductividad_Hidraulica(12)\n",
    "Kx_DetreticaMedia_2 = Funcion_Conductividad_Hidraulica(13)\n",
    "Kx_DetreticaMedia_3 = Funcion_Conductividad_Hidraulica(14)\n",
    "Kx_DetreticaMedia_4 = Funcion_Conductividad_Hidraulica(15)\n",
    "Kx_DetreticaMedia_5 = Funcion_Conductividad_Hidraulica(16)\n",
    "Kx_DetreticaMedia_6 = Funcion_Conductividad_Hidraulica(17)\n",
    "Kx_DetreticaMuyBaja_1 = Funcion_Conductividad_Hidraulica(18)\n",
    "Kx_DetreticaMuyBaja_2 = Funcion_Conductividad_Hidraulica(19)"
   ]
  },
  {
   "cell_type": "code",
   "execution_count": 26,
   "metadata": {},
   "outputs": [],
   "source": [
    "#Conductividad hidraulica total:\n",
    "Kx_Aluvial = Kx_Aluvial_1+Kx_Aluvial_2+Kx_Aluvial_3\n",
    "Kx_CarbonatadaAlta = Kx_CarbonatadaAlta_1+Kx_CarbonatadaAlta_2+Kx_CarbonatadaAlta_3+Kx_CarbonatadaAlta_4\n",
    "Kx_CarbonatadaMedia = Kx_CarbonatadaMedia_1+Kx_CarbonatadaMedia_2+Kx_CarbonatadaMedia_3+Kx_CarbonatadaMedia_4+Kx_CarbonatadaMedia_5\n",
    "Kx_DetreticaMedia = Kx_DetreticaMedia_1+Kx_DetreticaMedia_2+Kx_DetreticaMedia_3+Kx_DetreticaMedia_4+Kx_DetreticaMedia_5+Kx_DetreticaMedia_6\n",
    "Kx_DetreticaMuyBaja = Kx_DetreticaMuyBaja_1+Kx_DetreticaMuyBaja_2\n",
    "\n",
    "Kx = Kx_Aluvial+Kx_CarbonatadaAlta+Kx_CarbonatadaMedia+Kx_DetreticaMedia+Kx_DetreticaMuyBaja"
   ]
  },
  {
   "cell_type": "markdown",
   "metadata": {},
   "source": [
    "### **ALMACENAMIENTO Y RENDIMIENTO ESPECIFICO** "
   ]
  },
  {
   "cell_type": "markdown",
   "metadata": {},
   "source": [
    "##### *ALMACENAMIENTO ESPECIFICO* "
   ]
  },
  {
   "cell_type": "code",
   "execution_count": 27,
   "metadata": {},
   "outputs": [],
   "source": [
    "# leyendo el archivo excel:\n",
    "Excel_Ss_Layer1 = pd.read_excel('../../Inputs/Datos_del_modelo.xlsx', \n",
    "                                sheet_name='Parametros', usecols=[4])\n",
    "Excel_Ss_Layer2 = pd.read_excel('../../Inputs/Datos_del_modelo.xlsx', \n",
    "                                sheet_name='Parametros', usecols=[5])\n",
    "Excel_Ss_Layer3 = pd.read_excel('../../Inputs/Datos_del_modelo.xlsx', \n",
    "                                sheet_name='Parametros', usecols=[6])"
   ]
  },
  {
   "cell_type": "code",
   "execution_count": 28,
   "metadata": {},
   "outputs": [],
   "source": [
    "#Convirtiendo de lista a matriz\n",
    "Ss_Layer1 = Excel_Ss_Layer1.values.tolist()\n",
    "Ss_Layer2 = Excel_Ss_Layer2.values.tolist()\n",
    "Ss_Layer3 = Excel_Ss_Layer3.values.tolist()\n",
    "#Extrayendo los valores del matriz\n",
    "Ss_Layer1_valor=[y for x in Ss_Layer1 for y in x]\n",
    "Ss_Layer2_valor=[y for x in Ss_Layer2 for y in x]\n",
    "Ss_Layer3_valor=[y for x in Ss_Layer3 for y in x]"
   ]
  },
  {
   "cell_type": "code",
   "execution_count": 29,
   "metadata": {},
   "outputs": [],
   "source": [
    "# Creando una funcion para el Almacenamiento Especifico :\n",
    "def Funcion_Ss(i):\n",
    "    Zonificacion_Geom = Zonificacion_Parametros.iloc[i].geometry #Extrayendo la propiedad de geometria de los shapefiles por zonas\n",
    "    Zona_intersected = ix.intersect_polygon(Zonificacion_Geom) #Intersecando el shapefile y la grilla\n",
    "    \n",
    "    #Integrando las conductividades hidraulicas por zonas:\n",
    "    Ss_Zona = np.zeros((nlay, nrow, ncol)) #Creando matrices nlay,nrow,ncol por zonas:\n",
    "    for j in Zona_intersected.cellids:\n",
    "        Ss_Zona[0,j[0],j[1]] = Ss_Layer1_valor[i]\n",
    "        Ss_Zona[1,j[0],j[1]] = Ss_Layer2_valor[i]\n",
    "        Ss_Zona[2,j[0],j[1]] = Ss_Layer3_valor[i]\n",
    "    return Ss_Zona"
   ]
  },
  {
   "cell_type": "code",
   "execution_count": 30,
   "metadata": {},
   "outputs": [],
   "source": [
    "# Almacenamiento Especifico por zonas:\n",
    "Ss_Aluvial_1 = Funcion_Ss(0)\n",
    "Ss_Aluvial_2 = Funcion_Ss(1)\n",
    "Ss_Aluvial_3 = Funcion_Ss(2)\n",
    "Ss_CarbonatadaAlta_1 = Funcion_Ss(3)\n",
    "Ss_CarbonatadaAlta_2 = Funcion_Ss(4)\n",
    "Ss_CarbonatadaAlta_3 = Funcion_Ss(5)\n",
    "Ss_CarbonatadaAlta_4 = Funcion_Ss(6)\n",
    "Ss_CarbonatadaMedia_1 = Funcion_Ss(7)\n",
    "Ss_CarbonatadaMedia_2 = Funcion_Ss(8)\n",
    "Ss_CarbonatadaMedia_3 = Funcion_Ss(9)\n",
    "Ss_CarbonatadaMedia_4 = Funcion_Ss(10)\n",
    "Ss_CarbonatadaMedia_5 = Funcion_Ss(11)\n",
    "Ss_DetreticaMedia_1 = Funcion_Ss(12)\n",
    "Ss_DetreticaMedia_2 = Funcion_Ss(13)\n",
    "Ss_DetreticaMedia_3 = Funcion_Ss(14)\n",
    "Ss_DetreticaMedia_4 = Funcion_Ss(15)\n",
    "Ss_DetreticaMedia_5 = Funcion_Ss(16)\n",
    "Ss_DetreticaMedia_6 = Funcion_Ss(17)\n",
    "Ss_DetreticaMuyBaja_1 = Funcion_Ss(18)\n",
    "Ss_DetreticaMuyBaja_2 = Funcion_Ss(19)"
   ]
  },
  {
   "cell_type": "code",
   "execution_count": 31,
   "metadata": {},
   "outputs": [],
   "source": [
    "# Almacenamiento Especifico total:\n",
    "Ss_Aluvial = Ss_Aluvial_1+Ss_Aluvial_2+Ss_Aluvial_3\n",
    "Ss_CarbonatadaAlta = Ss_CarbonatadaAlta_1+Ss_CarbonatadaAlta_2+Ss_CarbonatadaAlta_3+Ss_CarbonatadaAlta_4\n",
    "Ss_CarbonatadaMedia = Ss_CarbonatadaMedia_1+Ss_CarbonatadaMedia_2+Ss_CarbonatadaMedia_3+Ss_CarbonatadaMedia_4+Ss_CarbonatadaMedia_5\n",
    "Ss_DetreticaMedia = Ss_DetreticaMedia_1+Ss_DetreticaMedia_2+Ss_DetreticaMedia_3+Ss_DetreticaMedia_4+Ss_DetreticaMedia_5+Ss_DetreticaMedia_6\n",
    "Ss_DetreticaMuyBaja = Ss_DetreticaMuyBaja_1+Ss_DetreticaMuyBaja_2\n",
    "\n",
    "Ss = Ss_Aluvial+Ss_CarbonatadaAlta+Ss_CarbonatadaMedia+Ss_DetreticaMedia+Ss_DetreticaMuyBaja"
   ]
  },
  {
   "cell_type": "markdown",
   "metadata": {},
   "source": [
    "##### *RENDIMIENTO ESPECIFICO* "
   ]
  },
  {
   "cell_type": "code",
   "execution_count": 32,
   "metadata": {},
   "outputs": [],
   "source": [
    "# leyendo el archivo excel:\n",
    "Excel_Sy_Layer1 = pd.read_excel('../../Inputs/Datos_del_modelo.xlsx', \n",
    "                                sheet_name='Parametros', usecols=[7])\n",
    "Excel_Sy_Layer2 = pd.read_excel('../../Inputs/Datos_del_modelo.xlsx', \n",
    "                                sheet_name='Parametros', usecols=[8])\n",
    "Excel_Sy_Layer3 = pd.read_excel('../../Inputs/Datos_del_modelo.xlsx', \n",
    "                                sheet_name='Parametros', usecols=[9])"
   ]
  },
  {
   "cell_type": "code",
   "execution_count": 33,
   "metadata": {},
   "outputs": [],
   "source": [
    "# Convirtiendo de lista a matriz\n",
    "Sy_Layer1 = Excel_Sy_Layer1.values.tolist()\n",
    "Sy_Layer2 = Excel_Sy_Layer2.values.tolist()\n",
    "Sy_Layer3 = Excel_Sy_Layer3.values.tolist()\n",
    "#Extrayendo los valores del matriz\n",
    "Sy_Layer1_valor=[y for x in Sy_Layer1 for y in x]\n",
    "Sy_Layer2_valor=[y for x in Sy_Layer2 for y in x]\n",
    "Sy_Layer3_valor=[y for x in Sy_Layer3 for y in x]"
   ]
  },
  {
   "cell_type": "code",
   "execution_count": 34,
   "metadata": {},
   "outputs": [],
   "source": [
    "# Creando una funcion para el Rendimiento Especifico :\n",
    "def Funcion_Sy(i):\n",
    "    Zonificacion_Geom = Zonificacion_Parametros.iloc[i].geometry #Extrayendo la propiedad de geometria de los shapefiles por zonas\n",
    "    Zona_intersected = ix.intersect_polygon(Zonificacion_Geom) #Intersecando el shapefile y la grilla\n",
    "    \n",
    "    #Integrando las conductividades hidraulicas por zonas:\n",
    "    Sy_Zona = np.zeros((nlay, nrow, ncol)) #Creando matrices nlay,nrow,ncol por zonas:\n",
    "    for j in Zona_intersected.cellids:\n",
    "        Sy_Zona[0,j[0],j[1]] = Sy_Layer1_valor[i]\n",
    "        Sy_Zona[1,j[0],j[1]] = Sy_Layer2_valor[i]\n",
    "        Sy_Zona[2,j[0],j[1]] = Sy_Layer3_valor[i]\n",
    "    return Sy_Zona"
   ]
  },
  {
   "cell_type": "code",
   "execution_count": 35,
   "metadata": {},
   "outputs": [],
   "source": [
    "# Rendimiento Especifico por zonas:\n",
    "Sy_Aluvial_1 = Funcion_Sy(0)\n",
    "Sy_Aluvial_2 = Funcion_Sy(1)\n",
    "Sy_Aluvial_3 = Funcion_Sy(2)\n",
    "Sy_CarbonatadaAlta_1 = Funcion_Sy(3)\n",
    "Sy_CarbonatadaAlta_2 = Funcion_Sy(4)\n",
    "Sy_CarbonatadaAlta_3 = Funcion_Sy(5)\n",
    "Sy_CarbonatadaAlta_4 = Funcion_Sy(6)\n",
    "Sy_CarbonatadaMedia_1 = Funcion_Sy(7)\n",
    "Sy_CarbonatadaMedia_2 = Funcion_Sy(8)\n",
    "Sy_CarbonatadaMedia_3 = Funcion_Sy(9)\n",
    "Sy_CarbonatadaMedia_4 = Funcion_Sy(10)\n",
    "Sy_CarbonatadaMedia_5 = Funcion_Sy(11)\n",
    "Sy_DetreticaMedia_1 = Funcion_Sy(12)\n",
    "Sy_DetreticaMedia_2 = Funcion_Sy(13)\n",
    "Sy_DetreticaMedia_3 = Funcion_Sy(14)\n",
    "Sy_DetreticaMedia_4 = Funcion_Sy(15)\n",
    "Sy_DetreticaMedia_5 = Funcion_Sy(16)\n",
    "Sy_DetreticaMedia_6 = Funcion_Sy(17)\n",
    "Sy_DetreticaMuyBaja_1 = Funcion_Sy(18)\n",
    "Sy_DetreticaMuyBaja_2 = Funcion_Sy(19)"
   ]
  },
  {
   "cell_type": "code",
   "execution_count": 36,
   "metadata": {},
   "outputs": [],
   "source": [
    "# Rendimiento Especifico total:\n",
    "Sy_Aluvial = Sy_Aluvial_1+Sy_Aluvial_2+Sy_Aluvial_3\n",
    "Sy_CarbonatadaAlta = Sy_CarbonatadaAlta_1+Sy_CarbonatadaAlta_2+Sy_CarbonatadaAlta_3+Sy_CarbonatadaAlta_4\n",
    "Sy_CarbonatadaMedia = Sy_CarbonatadaMedia_1+Sy_CarbonatadaMedia_2+Sy_CarbonatadaMedia_3+Sy_CarbonatadaMedia_4+Sy_CarbonatadaMedia_5\n",
    "Sy_DetreticaMedia = Sy_DetreticaMedia_1+Sy_DetreticaMedia_2+Sy_DetreticaMedia_3+Sy_DetreticaMedia_4+Sy_DetreticaMedia_5+Sy_DetreticaMedia_6\n",
    "Sy_DetreticaMuyBaja = Sy_DetreticaMuyBaja_1+Sy_DetreticaMuyBaja_2\n",
    "\n",
    "Sy = Sy_Aluvial+Sy_CarbonatadaAlta+Sy_CarbonatadaMedia+Sy_DetreticaMedia+Sy_DetreticaMuyBaja"
   ]
  },
  {
   "cell_type": "code",
   "execution_count": 37,
   "metadata": {},
   "outputs": [],
   "source": [
    "#PAQUETE LPF:\n",
    "laytyp = [1,1,0] # Capa1=libre, Capa2=Libre, Capa3=Confinado\n",
    "\n",
    "# Add LPF package to the MODFLOW model\n",
    "lpf = flopy.modflow.ModflowLpf(mf, hk=Kx, vka=Kx/10, laytyp=laytyp, #hdry=-1e+30,\n",
    "                               ss=Ss,sy=Sy,ipakcb=53, chani=-1)"
   ]
  },
  {
   "cell_type": "markdown",
   "metadata": {},
   "source": [
    "### **CONDICIONES DE BORDE** "
   ]
  },
  {
   "cell_type": "code",
   "execution_count": 38,
   "metadata": {},
   "outputs": [],
   "source": [
    "#Leyendo los shapefiles\n",
    "Limite_Mira = gpd.read_file(\"../../Inputs/Data_GIS/Shp/CondiciondeBorde/GHB_LaMira.shp\")\n",
    "Limite_Bunol_Cheste = gpd.read_file(\"../../Inputs/Data_GIS/Shp/CondiciondeBorde/GHB_BunolCheste.shp\")"
   ]
  },
  {
   "cell_type": "code",
   "execution_count": 39,
   "metadata": {},
   "outputs": [],
   "source": [
    "#Intersecando el shapefile y la grilla\n",
    "Limite_Mira_intersected = ix.intersect_linestring(MultiLineString(Limite_Mira.geometry.values))\n",
    "Limite_Bunol_Cheste_intersected = ix.intersect_linestring(MultiLineString(Limite_Bunol_Cheste.geometry.values))"
   ]
  },
  {
   "cell_type": "code",
   "execution_count": 40,
   "metadata": {},
   "outputs": [],
   "source": [
    "Data_GHB_Mira = pd.read_excel('../../Inputs/Datos_del_modelo.xlsx',sheet_name='GHB_Mira')\n",
    "Data_GHB_Mira = Data_GHB_Mira.values.tolist()"
   ]
  },
  {
   "cell_type": "code",
   "execution_count": 41,
   "metadata": {},
   "outputs": [],
   "source": [
    "GHB_list = []\n",
    "for i in Limite_Bunol_Cheste_intersected.cellids:\n",
    "    GHB_list.append([0,i[0],i[1],300,2.5])\n",
    "    GHB_list.append([1,i[0],i[1],300,2.5])\n",
    "    GHB_list.append([2,i[0],i[1],300,2.5])\n",
    "for i in range(len(Data_GHB_Mira)):\n",
    "        GHB_list.append([0,Data_GHB_Mira[i][0]-1,Data_GHB_Mira[i][1]-1,\n",
    "                              Data_GHB_Mira[i][2],Data_GHB_Mira[i][3]])\n",
    "        GHB_list.append([1,Data_GHB_Mira[i][0]-1,Data_GHB_Mira[i][1]-1,\n",
    "                              Data_GHB_Mira[i][2],Data_GHB_Mira[i][3]])\n",
    "        GHB_list.append([2,Data_GHB_Mira[i][0]-1,Data_GHB_Mira[i][1]-1,\n",
    "                              Data_GHB_Mira[i][2],Data_GHB_Mira[i][3]])    "
   ]
  },
  {
   "cell_type": "code",
   "execution_count": 42,
   "metadata": {},
   "outputs": [],
   "source": [
    "GHB_total = {i:GHB_list for i in range(nper)}\n",
    "ghb =flopy.modflow.mfghb.ModflowGhb(mf, stress_period_data=GHB_total, ipakcb=53)"
   ]
  },
  {
   "cell_type": "markdown",
   "metadata": {},
   "source": [
    "### **RECARGA** "
   ]
  },
  {
   "cell_type": "code",
   "execution_count": 43,
   "metadata": {},
   "outputs": [],
   "source": [
    "# leyendo el archivo excel:\n",
    "def Funcion_Data_Recargas(ncol):\n",
    "    Data_Recargas = pd.read_excel('../../Inputs/Datos_del_modelo.xlsx',sheet_name='Recargas', usecols=[ncol])\n",
    "    Data_Recargas = Data_Recargas.values.tolist()\n",
    "    return Data_Recargas"
   ]
  },
  {
   "cell_type": "code",
   "execution_count": 44,
   "metadata": {},
   "outputs": [],
   "source": [
    "Data_8103310 = Funcion_Data_Recargas(6)\n",
    "Data_8103320 = Funcion_Data_Recargas(7)\n",
    "Data_8103330 = Funcion_Data_Recargas(8)\n",
    "Data_8103340 = Funcion_Data_Recargas(9)\n",
    "Data_8103350 = Funcion_Data_Recargas(10)\n",
    "Data_8103360 = Funcion_Data_Recargas(11)\n",
    "Data_8103365 = Funcion_Data_Recargas(12)\n",
    "Data_8103370 = Funcion_Data_Recargas(13)\n",
    "Data_8103375 = Funcion_Data_Recargas(14)\n",
    "Data_8103380 = Funcion_Data_Recargas(15)\n",
    "Data_8103385 = Funcion_Data_Recargas(16)\n",
    "Data_8103390 = Funcion_Data_Recargas(17)\n",
    "Data_8103920 = Funcion_Data_Recargas(18)\n",
    "Data_8103940 = Funcion_Data_Recargas(19)\n",
    "Data_8103960 = Funcion_Data_Recargas(20)"
   ]
  },
  {
   "cell_type": "code",
   "execution_count": 45,
   "metadata": {},
   "outputs": [],
   "source": [
    "#Leyendo los shapefiles\n",
    "GIS_Recarga = gpd.read_file(\"../../Inputs/Data_GIS/Shp/Recargas/RUCM_Recargas.shp\")"
   ]
  },
  {
   "cell_type": "code",
   "execution_count": 46,
   "metadata": {},
   "outputs": [],
   "source": [
    "def Funcion_Recarga(i):  # i: poligono , j:    \n",
    "    Recarga_Geom = GIS_Recarga.iloc[i].geometry\n",
    "    Recarga_intersected = ix.intersect_polygon(Recarga_Geom)\n",
    "    Recarga_spd = np.zeros([nrow,ncol])\n",
    "    \n",
    "    for j in Recarga_intersected.cellids:\n",
    "        Recarga_spd[j] = 1\n",
    "    \n",
    "    return Recarga_spd"
   ]
  },
  {
   "cell_type": "code",
   "execution_count": 47,
   "metadata": {},
   "outputs": [],
   "source": [
    "# Matrices de ones para conocer la fila y columna en la que se ubica el valor de recarga\n",
    "Recarga_8103310 = Funcion_Recarga(0)\n",
    "Recarga_8103320 = Funcion_Recarga(1)\n",
    "Recarga_8103330 = Funcion_Recarga(2)\n",
    "Recarga_8103340 = Funcion_Recarga(3)\n",
    "Recarga_8103350 = Funcion_Recarga(4)\n",
    "Recarga_8103360 = Funcion_Recarga(5)\n",
    "Recarga_8103365 = Funcion_Recarga(6)\n",
    "Recarga_8103370 = Funcion_Recarga(7)\n",
    "Recarga_8103375 = Funcion_Recarga(8)\n",
    "Recarga_8103380 = Funcion_Recarga(9)\n",
    "Recarga_8103385 = Funcion_Recarga(10)\n",
    "Recarga_8103390 = Funcion_Recarga(11)\n",
    "Recarga_8103920 = Funcion_Recarga(12)\n",
    "Recarga_8103940 = Funcion_Recarga(13)\n",
    "Recarga_8103960 = Funcion_Recarga(14)"
   ]
  },
  {
   "cell_type": "markdown",
   "metadata": {},
   "source": [
    "### **RETORNOS** "
   ]
  },
  {
   "cell_type": "code",
   "execution_count": 48,
   "metadata": {},
   "outputs": [],
   "source": [
    "# leyendo el archivo excel:\n",
    "def Funcion_Data_Retornos(ncol):\n",
    "    Data_Retornos = pd.read_excel('../../Inputs/Datos_del_modelo.xlsx',sheet_name='Retornos', usecols=[ncol])\n",
    "    Data_Retornos = Data_Retornos.values.tolist()\n",
    "    return Data_Retornos"
   ]
  },
  {
   "cell_type": "code",
   "execution_count": 49,
   "metadata": {},
   "outputs": [],
   "source": [
    "#Convirtiendo de lista a matriz\n",
    "Retornos_AltoMagro = Funcion_Data_Retornos(6)\n",
    "Retornos_PlanaUtiel = Funcion_Data_Retornos(7)\n",
    "Retornos_BunolChiva = Funcion_Data_Retornos(8)"
   ]
  },
  {
   "cell_type": "code",
   "execution_count": 50,
   "metadata": {},
   "outputs": [],
   "source": [
    "#Leyendo los shapefiles\n",
    "rch_AltoMagro = gpd.read_file(\"../../Inputs/Data_GIS/Shp/Retornos/RUCM_Retorno_AltoMagro_label.shp\")\n",
    "rch_PlanaUtiel = gpd.read_file(\"../../Inputs/Data_GIS/Shp/Retornos/RUCM_Retorno_PlanaUtiel_label.shp\")\n",
    "rch_BunolChiva = gpd.read_file(\"../../Inputs/Data_GIS/Shp/Retornos/RUCM_Retorno_BunolChiva_label.shp\")"
   ]
  },
  {
   "cell_type": "code",
   "execution_count": 51,
   "metadata": {},
   "outputs": [],
   "source": [
    "def Funcion_Retorno(Retorno_GIS):\n",
    "    retorno_Geom=[]\n",
    "    retorno_intersected=[]\n",
    "    retorno_list=np.zeros([nrow,ncol])\n",
    "    a=len(Retorno_GIS)\n",
    "\n",
    "    for i in range(a):\n",
    "        retorno_Geom.append(Retorno_GIS.iloc[i].geometry)\n",
    "\n",
    "    for i in range(a):\n",
    "        retorno_intersected.append(ix.intersect_point(retorno_Geom[i]))\n",
    "    \n",
    "    for i in range(a):\n",
    "        for j in retorno_intersected[i].cellids:\n",
    "            retorno_list[j] = 1\n",
    "    \n",
    "    return retorno_list"
   ]
  },
  {
   "cell_type": "code",
   "execution_count": 52,
   "metadata": {},
   "outputs": [],
   "source": [
    "AltoMagro = Funcion_Retorno(rch_AltoMagro)\n",
    "PlanaUtiel = Funcion_Retorno(rch_PlanaUtiel)\n",
    "BunolChiva = Funcion_Retorno(rch_BunolChiva)"
   ]
  },
  {
   "cell_type": "code",
   "execution_count": 53,
   "metadata": {},
   "outputs": [],
   "source": [
    "retorno_total = {i: [Recarga_8103310*Data_8103310[i]+Recarga_8103320*Data_8103320[i]+Recarga_8103330*Data_8103330[i]\n",
    "                     +Recarga_8103340*Data_8103340[i]+Recarga_8103350*Data_8103350[i]+Recarga_8103360*Data_8103360[i]\n",
    "                     +Recarga_8103365*Data_8103365[i]+Recarga_8103370*Data_8103370[i]+Recarga_8103375*Data_8103375[i]\n",
    "                     +Recarga_8103380*Data_8103380[i]+Recarga_8103385*Data_8103385[i]+Recarga_8103390*Data_8103390[i]\n",
    "                     +Recarga_8103920*Data_8103920[i]+Recarga_8103940*Data_8103940[i]+Recarga_8103960*Data_8103960[i]\n",
    "                     +AltoMagro*Retornos_AltoMagro[i]+PlanaUtiel*Retornos_PlanaUtiel[i]\n",
    "                     +BunolChiva*Retornos_BunolChiva[i]] for i in range(nper)}"
   ]
  },
  {
   "cell_type": "code",
   "execution_count": 54,
   "metadata": {},
   "outputs": [],
   "source": [
    "# PAQUETE RECHARGE\n",
    "rch = flopy.modflow.ModflowRch(mf,rech=retorno_total, ipakcb=53)"
   ]
  },
  {
   "cell_type": "markdown",
   "metadata": {},
   "source": [
    "### **RIOS** "
   ]
  },
  {
   "cell_type": "code",
   "execution_count": 55,
   "metadata": {},
   "outputs": [],
   "source": [
    "#Leyendo los shapefiles\n",
    "rioDf_Bunol = gpd.read_file(\"../../Inputs/Data_GIS/Shp/Rios/RUCM_Rio_Bunol.shp\")\n",
    "rioDf_LaTorre = gpd.read_file(\"../../Inputs/Data_GIS/Shp/Rios/RUCM_Rio_LaTorre.shp\")\n",
    "rioDf_LaMadre = gpd.read_file(\"../../Inputs/Data_GIS/Shp/Rios/RUCM_Rio_LaMadre.shp\")\n",
    "rioDf_Magro = gpd.read_file(\"../../Inputs/Data_GIS/Shp/Rios/RUCM_Rio_Magro.shp\")\n",
    "#rioDf_Bunol"
   ]
  },
  {
   "cell_type": "code",
   "execution_count": 56,
   "metadata": {},
   "outputs": [],
   "source": [
    "def Funcion_Rio(Rio_GIS):\n",
    "    rio_Geom=[]\n",
    "    rio_Elev=[]\n",
    "    rio_Cond=[]\n",
    "    rio_intersected=[]\n",
    "    rio_list=[]\n",
    "    a=len(Rio_GIS)\n",
    "    \n",
    "    for i in range(a):\n",
    "        rio_Geom.append(Rio_GIS.iloc[i].geometry)\n",
    "        rio_Elev.append(Rio_GIS.iloc[i].Elevation)\n",
    "        rio_Cond.append(Rio_GIS.iloc[i].Conductanc)\n",
    "        \n",
    "    for i in range(a):\n",
    "        rio_intersected.append(ix.intersect_point(rio_Geom[i]))\n",
    "    \n",
    "    for j in range(a):\n",
    "        for i in rio_intersected[j].cellids:\n",
    "            if mtop[i]-66 < rio_Elev[j]: #valores para el layer 1\n",
    "                rio_list.append([0,i[0],i[1], rio_Elev[j]+1,rio_Cond[j],rio_Elev[j]])\n",
    "            if mtop[i]-66 > rio_Elev[j]: #valores para el layer 2\n",
    "                rio_list.append([1,i[0],i[1], rio_Elev[j]+1,rio_Cond[j],rio_Elev[j]])\n",
    "    \n",
    "    return rio_list"
   ]
  },
  {
   "cell_type": "code",
   "execution_count": 57,
   "metadata": {},
   "outputs": [],
   "source": [
    "rio_Bunol = Funcion_Rio(rioDf_Bunol)\n",
    "rio_LaTorre = Funcion_Rio(rioDf_LaTorre)\n",
    "rio_LaMadre= Funcion_Rio(rioDf_LaMadre)\n",
    "rio_Magro = Funcion_Rio(rioDf_Magro)"
   ]
  },
  {
   "cell_type": "code",
   "execution_count": 58,
   "metadata": {},
   "outputs": [],
   "source": [
    "rio1 = np.concatenate((rio_Bunol,rio_LaTorre,rio_LaMadre,rio_Magro),0)  \n",
    "rio = {i:rio1 for i in range(nper)}\n",
    "riv = flopy.modflow.ModflowRiv(mf, stress_period_data=rio, ipakcb=53)"
   ]
  },
  {
   "cell_type": "markdown",
   "metadata": {},
   "source": [
    "### **WELL** "
   ]
  },
  {
   "cell_type": "code",
   "execution_count": 59,
   "metadata": {},
   "outputs": [],
   "source": [
    "#Leyendo los shapefiles\n",
    "RU_Industriales = gpd.read_file(\"../../Inputs/Data_GIS/Shp/Pozos/RU_Industriales.shp\")\n",
    "RU_Urbanas = gpd.read_file(\"../../Inputs/Data_GIS/Shp/Pozos/RU_Urbanas.shp\")\n",
    "RU_Agricolas = gpd.read_file(\"../../Inputs/Data_GIS/Shp/Pozos/RU_Agricolas.shp\")\n",
    "CM_Industriales = gpd.read_file(\"../../Inputs/Data_GIS/Shp/Pozos/CM_Industriales.shp\")\n",
    "CM_Urbanas = gpd.read_file(\"../../Inputs/Data_GIS/Shp/Pozos/CM_Urbanas.shp\")\n",
    "CM_Agricolas = gpd.read_file(\"../../Inputs/Data_GIS/Shp/Pozos/CM_Agricolas.shp\")\n",
    "RUCM_PozosTotales = gpd.read_file(\"../../Inputs/Data_GIS/Shp/Pozos/RUCM_PozosTotales.shp\")"
   ]
  },
  {
   "cell_type": "code",
   "execution_count": 60,
   "metadata": {},
   "outputs": [],
   "source": [
    "#Leyendo los bombeos desde el excel:\n",
    "wel_excel = pd.read_csv('../../Inputs/Data_Pozos/Bombeo_RUCM.csv')"
   ]
  },
  {
   "cell_type": "code",
   "execution_count": 61,
   "metadata": {},
   "outputs": [],
   "source": [
    "#Convirtiendo de lista a matriz\n",
    "Wel_RU_I = wel_excel['Bombeo'].values.tolist() \n",
    "b = len(RU_Industriales)\n",
    "n = len(Wel_RU_I)\n",
    "Wel_RU=[]\n",
    "for i in range(nper):\n",
    "    Wel_RU.append(Wel_RU_I[i:n:nper])  "
   ]
  },
  {
   "cell_type": "code",
   "execution_count": 62,
   "metadata": {},
   "outputs": [],
   "source": [
    "RU_I_Geom=[]\n",
    "RU_I_Layer=[]\n",
    "RU_I_intersected=[]\n",
    "RU_list=[]\n",
    "RU_F=[]\n",
    "\n",
    "def Funcion_Well(RU_GIS):\n",
    "    a=len(RU_GIS)\n",
    "    for i in range(a):\n",
    "        RU_I_Geom.append(RU_GIS.iloc[i].geometry)\n",
    "        RU_I_Layer.append(RU_GIS.iloc[i].Layer)\n",
    "        \n",
    "    for i in range(a):\n",
    "        RU_I_intersected.append(ix.intersect_point(RU_I_Geom[i]))\n",
    "        \n",
    "    for z in range(nper):\n",
    "        W = Wel_RU[z]\n",
    "        for j in range(a):\n",
    "            for i in RU_I_intersected[j].cellids:\n",
    "                RU_list.append([RU_I_Layer[j]-1,i[0],i[1],W[j]])\n",
    "      \n",
    "    for i in range(0,len(RU_list),a):\n",
    "        RU_F.append(RU_list[i:i+a])\n",
    " \n",
    "    wel_spd = {i:RU_F[i] for i in range(nper)}\n",
    "    \n",
    "    return wel_spd\n",
    "wel_spd_RU = Funcion_Well(RUCM_PozosTotales)"
   ]
  },
  {
   "cell_type": "code",
   "execution_count": 63,
   "metadata": {},
   "outputs": [],
   "source": [
    "wel = flopy.modflow.ModflowWel(mf,stress_period_data=wel_spd_RU, ipakcb=53)"
   ]
  },
  {
   "cell_type": "markdown",
   "metadata": {},
   "source": [
    "### **HOB** "
   ]
  },
  {
   "cell_type": "code",
   "execution_count": 64,
   "metadata": {},
   "outputs": [],
   "source": [
    "# leyendo el archivo excel:\n",
    "Data_Piezometros = pd.read_csv('../../Inputs/Data_Piezometros/RUCM_Piezometros.csv')"
   ]
  },
  {
   "cell_type": "code",
   "execution_count": 65,
   "metadata": {},
   "outputs": [],
   "source": [
    "# Funcion para obtener los registros de medicion de piezometros:\n",
    "def Funcion_HOB(y):\n",
    "    PO_tsd = []\n",
    "    PO = Data_Piezometros[y].values.tolist()\n",
    "    Perlen_PO = Data_Piezometros['Inicio'].values.tolist()\n",
    "    for i in range(nper):\n",
    "        if PO[i]>0:\n",
    "            PO_tsd.append([Perlen_PO[i],PO[i]])\n",
    "    return PO_tsd"
   ]
  },
  {
   "cell_type": "code",
   "execution_count": 66,
   "metadata": {},
   "outputs": [],
   "source": [
    "tsd_1 = Funcion_HOB('08_18_003')\n",
    "tsd_2 = Funcion_HOB('08_18_005')\n",
    "tsd_3 = Funcion_HOB('08_18_086')\n",
    "tsd_4 = Funcion_HOB('08_24_005')\n",
    "tsd_5 = Funcion_HOB('08_24_007')\n",
    "tsd_6 = Funcion_HOB('08_24_008')\n",
    "tsd_7 = Funcion_HOB('08_24_010')\n",
    "tsd_8 = Funcion_HOB('08_24_031')\n",
    "tsd_9 = Funcion_HOB('08_24_032')\n",
    "tsd_10 = Funcion_HOB('08_24_033')"
   ]
  },
  {
   "cell_type": "code",
   "execution_count": 67,
   "metadata": {},
   "outputs": [],
   "source": [
    "def Funcion_Mediciones(n,m):\n",
    "    L = [n]\n",
    "    k = len(m)\n",
    "    L1 = ['{}{}'.format(x, y) for y in range(1, k+1) for x in L]\n",
    "    return L1"
   ]
  },
  {
   "cell_type": "code",
   "execution_count": 68,
   "metadata": {},
   "outputs": [],
   "source": [
    "Name_1 = Funcion_Mediciones('P0818003.',tsd_1)\n",
    "Name_2 = Funcion_Mediciones('P0818005.',tsd_2)\n",
    "Name_3 = Funcion_Mediciones('P0818086.',tsd_3)\n",
    "Name_4 = Funcion_Mediciones('P0824005.',tsd_4)\n",
    "Name_5 = Funcion_Mediciones('P0824007.',tsd_5)\n",
    "Name_6 = Funcion_Mediciones('P0824008.',tsd_6)\n",
    "Name_7 = Funcion_Mediciones('P0824010.',tsd_7)\n",
    "Name_8 = Funcion_Mediciones('P0824031.',tsd_8)\n",
    "Name_9 = Funcion_Mediciones('P0824032.',tsd_9)\n",
    "Name_10 = Funcion_Mediciones('P0824033.',tsd_10)"
   ]
  },
  {
   "cell_type": "code",
   "execution_count": 69,
   "metadata": {},
   "outputs": [],
   "source": [
    "#Leyendo los shapefiles\n",
    "GIS_Piezometros = gpd.read_file(\"../../Inputs/Data_GIS/Shp/Piezometros/RUCM_Piezometros.shp\")"
   ]
  },
  {
   "cell_type": "code",
   "execution_count": 70,
   "metadata": {},
   "outputs": [],
   "source": [
    "HOB_Geom=[]\n",
    "HOB_intersected=[]\n",
    "HOB_list=[]\n",
    "HOB_altura=[]\n",
    "  \n",
    "a=len(GIS_Piezometros)\n",
    "for i in range(a):\n",
    "    HOB_Geom.append(GIS_Piezometros.iloc[i].geometry)\n",
    "        \n",
    "for i in range(a):\n",
    "    HOB_intersected.append(ix.intersect_point(HOB_Geom[i]))\n",
    "   \n",
    "for j in range(a):\n",
    "    for i in HOB_intersected[j].cellids:\n",
    "        HOB_list.append((i[0],i[1]))  "
   ]
  },
  {
   "cell_type": "code",
   "execution_count": 71,
   "metadata": {},
   "outputs": [],
   "source": [
    "obs_data = []\n",
    "obs_data.append(flopy.modflow.HeadObservation(mf, layer=0, row=HOB_list[0][0], column=HOB_list[0][1],\n",
    "                                              time_series_data=tsd_1,\n",
    "                                              names=Name_1, obsname='08_18_003'))\n",
    "obs_data.append(flopy.modflow.HeadObservation(mf, layer=1, row=HOB_list[1][0], column=HOB_list[1][1],\n",
    "                                              time_series_data=tsd_2, \n",
    "                                              names=Name_2, obsname='08_18_005'))\n",
    "obs_data.append(flopy.modflow.HeadObservation(mf, layer=2, row=HOB_list[2][0], column=HOB_list[2][1],\n",
    "                                              time_series_data=tsd_3, \n",
    "                                              names=Name_3, obsname='08_18_086'))\n",
    "obs_data.append(flopy.modflow.HeadObservation(mf, layer=0, row=HOB_list[3][0], column=HOB_list[3][1],\n",
    "                                              time_series_data=tsd_4, \n",
    "                                              names=Name_4, obsname='08_24_005'))\n",
    "obs_data.append(flopy.modflow.HeadObservation(mf, layer=0, row=HOB_list[4][0], column=HOB_list[4][1],\n",
    "                                              time_series_data=tsd_5, \n",
    "                                              names=Name_5, obsname='08_24_007'))\n",
    "obs_data.append(flopy.modflow.HeadObservation(mf, layer=0, row=HOB_list[5][0], column=HOB_list[5][1],\n",
    "                                              time_series_data=tsd_6, \n",
    "                                              names=Name_6, obsname='08_24_008'))\n",
    "obs_data.append(flopy.modflow.HeadObservation(mf, layer=0, row=HOB_list[6][0], column=HOB_list[6][1],\n",
    "                                              time_series_data=tsd_7, \n",
    "                                              names=Name_7, obsname='08_24_010'))\n",
    "obs_data.append(flopy.modflow.HeadObservation(mf, layer=0, row=HOB_list[7][0], column=HOB_list[7][1],\n",
    "                                              time_series_data=tsd_8, \n",
    "                                              names=Name_8, obsname='08_24_031'))\n",
    "obs_data.append(flopy.modflow.HeadObservation(mf, layer=0, row=HOB_list[8][0], column=HOB_list[8][1],\n",
    "                                              time_series_data=tsd_9, \n",
    "                                              names=Name_9, obsname='08_24_032'))\n",
    "obs_data.append(flopy.modflow.HeadObservation(mf, layer=0, row=HOB_list[9][0], column=HOB_list[9][1],\n",
    "                                              time_series_data=tsd_10, \n",
    "                                              names=Name_10, obsname='08_24_033'))\n",
    "\n",
    "hob = flopy.modflow.ModflowHob(mf, iuhobsv=42, hobdry=-1e+6, tomulth=1.0, obs_data=obs_data)"
   ]
  },
  {
   "cell_type": "markdown",
   "metadata": {},
   "source": [
    "### **OC** "
   ]
  },
  {
   "cell_type": "code",
   "execution_count": 72,
   "metadata": {},
   "outputs": [],
   "source": [
    "spd = {}\n",
    "for i in range(nper):\n",
    "    for j in range(nstp[i]):\n",
    "        spd[(i,j)]=['print head', 'print budget', 'save head', 'save budget']\n",
    "oc= flopy.modflow.ModflowOc(mf,stress_period_data=spd, compact=True)"
   ]
  },
  {
   "cell_type": "markdown",
   "metadata": {},
   "source": [
    "### **DE4 - Direct Solver Package**"
   ]
  },
  {
   "cell_type": "code",
   "execution_count": 73,
   "metadata": {},
   "outputs": [],
   "source": [
    "de4 = flopy.modflow.ModflowDe4(mf, itmx=5, mxup=0, mxlow=0, mxbw=0, \n",
    "                               ifreq=3, mutd4=0, accl=1, hclose=3e-1, \n",
    "                               iprd4=1, extension='de4')"
   ]
  },
  {
   "cell_type": "markdown",
   "metadata": {},
   "source": [
    "### **RUN**"
   ]
  },
  {
   "cell_type": "code",
   "execution_count": 74,
   "metadata": {},
   "outputs": [
    {
     "data": {
      "text/plain": [
       "(True, [])"
      ]
     },
     "execution_count": 74,
     "metadata": {},
     "output_type": "execute_result"
    }
   ],
   "source": [
    "#Write input files -> write file with extensions\n",
    "mf.write_input()\n",
    "\n",
    "#run model -> gives the solution\n",
    "mf.run_model(silent=True)"
   ]
  },
  {
   "cell_type": "markdown",
   "metadata": {},
   "source": [
    "### **ZONEBUDGET**"
   ]
  },
  {
   "cell_type": "markdown",
   "metadata": {},
   "source": [
    "##### *BALANCE POR ZONAS* "
   ]
  },
  {
   "cell_type": "code",
   "execution_count": 75,
   "metadata": {},
   "outputs": [],
   "source": [
    "# Zona 1: Contorno con Mira.\n",
    "# Zona 2: Contorno con Buñol Cheste.\n",
    "# Zona 3: Rambla de la Torre.\n",
    "# Zona 4: Río Madre.\n",
    "# Zona 5: Río Magro.\n",
    "# Zona 6: Río Buñol."
   ]
  },
  {
   "cell_type": "code",
   "execution_count": 76,
   "metadata": {},
   "outputs": [],
   "source": [
    "def Funcion_Contorno_zb(zb,nzb): #zb: zonebuget geometry, #nzb: numero de zona\n",
    "    Zona_Contorno = np.zeros((nlay, nrow, ncol), dtype=np.int32) # nlay, nrow, ncol\n",
    "    for i in zb.cellids:\n",
    "        Zona_Contorno[0,i[0],i[1]] = nzb\n",
    "        Zona_Contorno[1,i[0],i[1]] = nzb\n",
    "        Zona_Contorno[2,i[0],i[1]] = nzb\n",
    "    return Zona_Contorno"
   ]
  },
  {
   "cell_type": "code",
   "execution_count": 77,
   "metadata": {},
   "outputs": [],
   "source": [
    "def Funcion_Rio_zb(Rio_GIS,nzb):\n",
    "    rio_Geom=[]\n",
    "    rio_Elev=[]\n",
    "    rio_intersected=[]\n",
    "    a=len(Rio_GIS)\n",
    "    \n",
    "    for i in range(a):\n",
    "        rio_Geom.append(Rio_GIS.iloc[i].geometry)\n",
    "        rio_Elev.append(Rio_GIS.iloc[i].Elevation)\n",
    "        \n",
    "    for i in range(a):\n",
    "        rio_intersected.append(ix.intersect_point(rio_Geom[i]))\n",
    "    \n",
    "    Zona_rio = np.zeros((nlay, nrow, ncol),dtype=np.int32)\n",
    "    for j in range(a):\n",
    "        for i in rio_intersected[j].cellids:\n",
    "            if mtop[i]-66 < rio_Elev[j]: #valores para el layer 1\n",
    "                Zona_rio[0,i[0],i[1]]=nzb\n",
    "            if mtop[i]-66 > rio_Elev[j]: #valores para el layer 2\n",
    "                Zona_rio[1,i[0],i[1]]=nzb\n",
    "    return Zona_rio"
   ]
  },
  {
   "cell_type": "code",
   "execution_count": 78,
   "metadata": {},
   "outputs": [],
   "source": [
    "Zona_1 = Funcion_Contorno_zb(Limite_Mira_intersected, 1)\n",
    "Zona_2 = Funcion_Contorno_zb(Limite_Bunol_Cheste_intersected, 2)\n",
    "Zona_3 = Funcion_Rio_zb(rioDf_LaTorre, 3)\n",
    "Zona_4 = Funcion_Rio_zb(rioDf_LaMadre, 4)\n",
    "Zona_5 = Funcion_Rio_zb(rioDf_Magro, 5)\n",
    "Zona_6 = Funcion_Rio_zb(rioDf_Bunol, 6)\n",
    "zones= (Zona_1+((Zona_6-Zona_6.max())/-Zona_6.max())*Zona_2+\n",
    "        ((Zona_1-Zona_1.max())/-Zona_1.max())*Zona_3+Zona_4+Zona_5+Zona_6).astype(int)"
   ]
  },
  {
   "cell_type": "code",
   "execution_count": 79,
   "metadata": {},
   "outputs": [],
   "source": [
    "# Convirtiendo la matriz en lista\n",
    "zon_lst = zones.tolist()\n",
    "zon_lst2 = [num for elem in zon_lst for num in elem]\n",
    "mylst = [num for elem in zon_lst2 for num in elem]"
   ]
  },
  {
   "cell_type": "code",
   "execution_count": 80,
   "metadata": {},
   "outputs": [],
   "source": [
    "# Creando el archivo .zon\n",
    "\n",
    "def chunk_list(alist, n):\n",
    "    for i in range(0, len(alist), n):\n",
    "        yield alist[i:i + n]\n",
    "\n",
    "def block_gen(mylst, rows, cols, file_cols, field_len):\n",
    "    # mylst is a 1D array whose length matches that of the number of cells in the model\n",
    "    # rows, cols: These are the total rows, columns; respectively\n",
    "    # Assumes integers for zonation file\n",
    "    frmt = '{:>%d}' % field_len\n",
    "    zon_str = ''\n",
    "    for lay in chunk_list(mylst, (rows * cols)):\n",
    "        zon_str += 'INTERNAL          ({:}I{})\\n'.format(file_cols, field_len)\n",
    "        for block in chunk_list(lay, cols):\n",
    "            for line in chunk_list(block, file_cols):\n",
    "                zon_str += ''.join([frmt.format(cell) for cell in line]) + '\\n'\n",
    "    return zon_str\n",
    "\n",
    "def write_zb_zonefile(filepath, lays, rows, cols, zon_str):\n",
    "    with open(filepath, 'w+') as file:\n",
    "        file.write('{:<6}{:<6}{:<6}\\n'.format(lays, rows, cols))\n",
    "        file.write(zon_str)\n",
    "    return\n",
    "\n",
    "zon_str = block_gen(mylst, nrow, ncol, 10, 3)\n",
    "write_zb_zonefile((os.path.join(model_ws,modelname+'.zon')), nlay, nrow, ncol, zon_str)"
   ]
  },
  {
   "cell_type": "markdown",
   "metadata": {},
   "source": [
    "##### *BALANCE TOTAL* "
   ]
  },
  {
   "cell_type": "code",
   "execution_count": 81,
   "metadata": {},
   "outputs": [],
   "source": [
    "# Convirtiendo la matriz en lista\n",
    "idomain_zone = idomain.astype(int)\n",
    "zon_lst_total = idomain_zone.tolist() # Se usa matriz de dominio\n",
    "zon_lst2_total = [num for elem in zon_lst_total for num in elem]\n",
    "mylst_total = [num for elem in zon_lst2_total for num in elem]"
   ]
  },
  {
   "cell_type": "code",
   "execution_count": 82,
   "metadata": {},
   "outputs": [],
   "source": [
    "# Creando el archivo .zon\n",
    "zon_str_total = block_gen(mylst_total, nrow, ncol, 10, 3)\n",
    "write_zb_zonefile((os.path.join(model_ws,modelname+'.zontotal')), nlay, nrow, ncol, zon_str_total)"
   ]
  },
  {
   "cell_type": "markdown",
   "metadata": {},
   "source": [
    "##### *BALANCE POR MASAS SUBTERRANEAS* "
   ]
  },
  {
   "cell_type": "code",
   "execution_count": 83,
   "metadata": {},
   "outputs": [],
   "source": [
    "#Leyendo los shapefiles\n",
    "Masa_RU_GIS = gpd.read_file(\"../../Inputs/Data_GIS/Shp/Masas/Masa_RU.shp\")\n",
    "Masa_CM_GIS = gpd.read_file(\"../../Inputs/Data_GIS/Shp/Masas/Masa_CM.shp\")"
   ]
  },
  {
   "cell_type": "code",
   "execution_count": 84,
   "metadata": {},
   "outputs": [],
   "source": [
    "# Creando una funcion para las masas:\n",
    "def Funcion_Masas(Masa, n):\n",
    "    Masa_Geom = Masa.iloc[0].geometry #Extrayendo la propiedad de geometria de los shapefiles por zonas \n",
    "    Masa_intersected = ix.intersect_polygon(Masa_Geom) #Intersecando el shapefile y la grilla\n",
    "    \n",
    "    Masas_Zonas = np.zeros((nlay, nrow, ncol),dtype=np.int32) #Creando matrices nlay,nrow,ncol por zonas:\n",
    "    for i in Masa_intersected.cellids:\n",
    "        Masas_Zonas[0,i[0],i[1]] = n\n",
    "        Masas_Zonas[1,i[0],i[1]] = n\n",
    "        Masas_Zonas[2,i[0],i[1]] = n\n",
    "    return Masas_Zonas"
   ]
  },
  {
   "cell_type": "code",
   "execution_count": 85,
   "metadata": {},
   "outputs": [],
   "source": [
    "Masa_RU = Funcion_Masas(Masa_RU_GIS,1) # 1: Masa Requena-Utiel\n",
    "Masa_CM = Funcion_Masas(Masa_CM_GIS,2) # 2: Masa Cabrillas-Malacara\n",
    "Masa_RUCM = Masa_RU + Masa_CM"
   ]
  },
  {
   "cell_type": "code",
   "execution_count": 86,
   "metadata": {},
   "outputs": [],
   "source": [
    "# Convirtiendo la matriz en lista\n",
    "Masas_lst = Masa_RUCM.tolist()\n",
    "Masas_lst2 = [num for elem in Masas_lst for num in elem]\n",
    "Masas_mylst = [num for elem in Masas_lst2 for num in elem]"
   ]
  },
  {
   "cell_type": "code",
   "execution_count": 87,
   "metadata": {},
   "outputs": [],
   "source": [
    "# Creando el archivo .zon\n",
    "Masas_str_total = block_gen(Masas_mylst, nrow, ncol, 10, 3)\n",
    "write_zb_zonefile((os.path.join(model_ws,modelname+'.zon_masas')), nlay, nrow, ncol, Masas_str_total)"
   ]
  }
 ],
 "metadata": {
  "kernelspec": {
   "display_name": "Python 3",
   "language": "python",
   "name": "python3"
  },
  "language_info": {
   "codemirror_mode": {
    "name": "ipython",
    "version": 3
   },
   "file_extension": ".py",
   "mimetype": "text/x-python",
   "name": "python",
   "nbconvert_exporter": "python",
   "pygments_lexer": "ipython3",
   "version": "3.8.3"
  }
 },
 "nbformat": 4,
 "nbformat_minor": 4
}
